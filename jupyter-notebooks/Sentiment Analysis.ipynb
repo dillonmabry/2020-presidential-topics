{
 "cells": [
  {
   "cell_type": "code",
   "execution_count": 1,
   "metadata": {},
   "outputs": [
    {
     "name": "stdout",
     "output_type": "stream",
     "text": [
      "3.8.5\n"
     ]
    }
   ],
   "source": [
    "from platform import python_version\n",
    "\n",
    "print(python_version())"
   ]
  },
  {
   "cell_type": "markdown",
   "metadata": {},
   "source": [
    "#### Import all libraries"
   ]
  },
  {
   "cell_type": "code",
   "execution_count": 2,
   "metadata": {},
   "outputs": [
    {
     "name": "stdout",
     "output_type": "stream",
     "text": [
      "Warning: Your Kaggle API key is readable by other users on this system! To fix this, you can run 'chmod 600 /home/dcmabry/.kaggle/kaggle.json'\n"
     ]
    },
    {
     "name": "stderr",
     "output_type": "stream",
     "text": [
      "[nltk_data] Downloading package stopwords to\n",
      "[nltk_data]     /home/dcmabry/nltk_data...\n",
      "[nltk_data]   Package stopwords is already up-to-date!\n",
      "[nltk_data] Downloading package vader_lexicon to\n",
      "[nltk_data]     /home/dcmabry/nltk_data...\n",
      "[nltk_data]   Package vader_lexicon is already up-to-date!\n",
      "[nltk_data] Downloading package wordnet to /home/dcmabry/nltk_data...\n",
      "[nltk_data]   Package wordnet is already up-to-date!\n",
      "<ipython-input-2-7f42ee9c90fb>:48: FutureWarning: Passing a negative integer is deprecated in version 1.0 and will not be supported in future version. Instead, use None to not limit the column width.\n",
      "  pd.set_option('display.max_colwidth', -1)\n"
     ]
    }
   ],
   "source": [
    "# Data\n",
    "import pandas as pd\n",
    "import numpy as np\n",
    "import os\n",
    "import random\n",
    "import re\n",
    "import tqdm\n",
    "import kaggle\n",
    "\n",
    "# Preprocessing\n",
    "import nltk\n",
    "nltk.download('stopwords')\n",
    "nltk.download('vader_lexicon')\n",
    "from nltk.corpus import stopwords\n",
    "import preprocessor as p\n",
    "\n",
    "# Gensim LDA\n",
    "import gensim\n",
    "import gensim.corpora as corpora\n",
    "from gensim.utils import simple_preprocess\n",
    "from gensim.models import CoherenceModel\n",
    "\n",
    "# Lemmatization\n",
    "import spacy # python -m spacy download en_core_web_sm\n",
    "\n",
    "# Plotting\n",
    "import pyLDAvis\n",
    "import pyLDAvis.gensim  # don't skip this\n",
    "import matplotlib.pyplot as plt\n",
    "import matplotlib.colors as mcolors\n",
    "from wordcloud import WordCloud, STOPWORDS\n",
    "%matplotlib inline\n",
    "\n",
    "import preprocessor as p\n",
    "from preprocessor.api import clean, tokenize, parse\n",
    "nlp = spacy.load(\"en_core_web_sm\")\n",
    "from nltk.sentiment.vader import SentimentIntensityAnalyzer\n",
    "\n",
    "import html\n",
    "from textblob import TextBlob\n",
    "\n",
    "nltk.download('wordnet')\n",
    "from nltk.stem.wordnet import WordNetLemmatizer\n",
    "lmtzr = WordNetLemmatizer()\n",
    "import pickle\n",
    "pd.set_option('display.width', None)\n",
    "pd.set_option('display.max_columns', None)\n",
    "pd.set_option('display.max_colwidth', -1)"
   ]
  },
  {
   "cell_type": "markdown",
   "metadata": {},
   "source": [
    "#### Obtain Tweets"
   ]
  },
  {
   "cell_type": "code",
   "execution_count": 4,
   "metadata": {},
   "outputs": [
    {
     "name": "stdout",
     "output_type": "stream",
     "text": [
      "Warning: Your Kaggle API key is readable by other users on this system! To fix this, you can run 'chmod 600 /home/dcmabry/.kaggle/kaggle.json'\n"
     ]
    }
   ],
   "source": [
    "# Download dataset\n",
    "# Authentication https://www.kaggle.com/\n",
    "# In order to use the Kaggle’s public API, you must first authenticate using an API token.\n",
    "# From the site header, click on your user profile picture, then on “My Account” from the dropdown menu.\n",
    "#v This will take you to your account settings at https://www.kaggle.com/account. Scroll down to the section of the page labelled API:\n",
    "# To create a new token, click on the “Create New API Token” button. This will download a fresh authentication token onto your machine.\n",
    "# Save the token in your home directory, for Linux users ~/.kaggle/kaggle.json or C:\\Users<Windows-username>.kaggle\\kaggle.json on Windows\n",
    "kaggle.api.authenticate()\n",
    "kaggle.api.dataset_download_files('rapiddev/us-presidential-election-tweets-2020', path='.', unzip=True)"
   ]
  },
  {
   "cell_type": "code",
   "execution_count": 6,
   "metadata": {},
   "outputs": [],
   "source": [
    "# Dataframe\n",
    "df = pd.read_csv(\"tweets.csv\")"
   ]
  },
  {
   "cell_type": "markdown",
   "metadata": {},
   "source": [
    "#### Dataframe of Tweets"
   ]
  },
  {
   "cell_type": "code",
   "execution_count": 5,
   "metadata": {},
   "outputs": [
    {
     "data": {
      "text/plain": [
       "(575000, 10)"
      ]
     },
     "execution_count": 5,
     "metadata": {},
     "output_type": "execute_result"
    }
   ],
   "source": [
    "df.shape"
   ]
  },
  {
   "cell_type": "code",
   "execution_count": 6,
   "metadata": {},
   "outputs": [],
   "source": [
    "df_tweets = df"
   ]
  },
  {
   "cell_type": "markdown",
   "metadata": {},
   "source": [
    "#### Filter tweets for biden and trump hashtags"
   ]
  },
  {
   "cell_type": "code",
   "execution_count": 7,
   "metadata": {},
   "outputs": [],
   "source": [
    "df_tweets[\"hashtags\"]=[list(set(re.findall(r'(?i)\\#\\w+',str(tweet.lower()),flags=re.UNICODE))) for tweet in df_tweets.tweet] "
   ]
  },
  {
   "cell_type": "code",
   "execution_count": 8,
   "metadata": {},
   "outputs": [
    {
     "name": "stderr",
     "output_type": "stream",
     "text": [
      "<ipython-input-8-2cfaa3b04e2a>:4: SettingWithCopyWarning: \n",
      "A value is trying to be set on a copy of a slice from a DataFrame.\n",
      "Try using .loc[row_indexer,col_indexer] = value instead\n",
      "\n",
      "See the caveats in the documentation: https://pandas.pydata.org/pandas-docs/stable/user_guide/indexing.html#returning-a-view-versus-a-copy\n",
      "  df_tweets_b['candidate_hashtag'] = 'biden'\n",
      "<ipython-input-8-2cfaa3b04e2a>:6: SettingWithCopyWarning: \n",
      "A value is trying to be set on a copy of a slice from a DataFrame.\n",
      "Try using .loc[row_indexer,col_indexer] = value instead\n",
      "\n",
      "See the caveats in the documentation: https://pandas.pydata.org/pandas-docs/stable/user_guide/indexing.html#returning-a-view-versus-a-copy\n",
      "  df_tweets_t['candidate_hashtag'] = 'trump'\n"
     ]
    }
   ],
   "source": [
    "biden = ['#biden','#joebiden']\n",
    "trump = ['#trump','#donaldtrump']\n",
    "df_tweets_b = df_tweets[df_tweets.hashtags.map(lambda x: np.isin(x, biden).any())]\n",
    "df_tweets_b['candidate_hashtag'] = 'biden'\n",
    "df_tweets_t = df_tweets[df_tweets.hashtags.map(lambda x: np.isin(x, trump).any())]\n",
    "df_tweets_t['candidate_hashtag'] = 'trump'\n",
    "# df[df.Hashtags.map(lambda x: np.isin(x, candidates).all())]"
   ]
  },
  {
   "cell_type": "code",
   "execution_count": 9,
   "metadata": {},
   "outputs": [],
   "source": [
    "###Number of Biden tweets"
   ]
  },
  {
   "cell_type": "code",
   "execution_count": 10,
   "metadata": {},
   "outputs": [
    {
     "data": {
      "text/plain": [
       "(105265, 12)"
      ]
     },
     "execution_count": 10,
     "metadata": {},
     "output_type": "execute_result"
    }
   ],
   "source": [
    "df_tweets_b.shape"
   ]
  },
  {
   "cell_type": "code",
   "execution_count": 11,
   "metadata": {},
   "outputs": [],
   "source": [
    "###Number of Trump tweets"
   ]
  },
  {
   "cell_type": "code",
   "execution_count": 12,
   "metadata": {},
   "outputs": [
    {
     "data": {
      "text/plain": [
       "(212531, 12)"
      ]
     },
     "execution_count": 12,
     "metadata": {},
     "output_type": "execute_result"
    }
   ],
   "source": [
    "df_tweets_t.shape"
   ]
  },
  {
   "cell_type": "code",
   "execution_count": 13,
   "metadata": {},
   "outputs": [],
   "source": [
    "####Concatenate dataframes and drop duplicates rows using _id"
   ]
  },
  {
   "cell_type": "code",
   "execution_count": 14,
   "metadata": {},
   "outputs": [],
   "source": [
    "df_tweets = pd.concat([df_tweets_b, df_tweets_t]).drop_duplicates('_id').reset_index(drop=True)"
   ]
  },
  {
   "cell_type": "code",
   "execution_count": 15,
   "metadata": {},
   "outputs": [
    {
     "data": {
      "text/plain": [
       "(296053, 12)"
      ]
     },
     "execution_count": 15,
     "metadata": {},
     "output_type": "execute_result"
    }
   ],
   "source": [
    "df_tweets.shape"
   ]
  },
  {
   "cell_type": "code",
   "execution_count": 16,
   "metadata": {},
   "outputs": [],
   "source": [
    "df_tweets = df_tweets.drop_duplicates(subset=['tweet'])"
   ]
  },
  {
   "cell_type": "code",
   "execution_count": 17,
   "metadata": {},
   "outputs": [
    {
     "data": {
      "text/plain": [
       "(291984, 12)"
      ]
     },
     "execution_count": 17,
     "metadata": {},
     "output_type": "execute_result"
    }
   ],
   "source": [
    "df_tweets.shape"
   ]
  },
  {
   "cell_type": "markdown",
   "metadata": {},
   "source": [
    "#### Cleaning tweets: keeping emojis, capitalization, punctuation, Remove URL, Mentions (@), will not perform stemming or lemmatization\n",
    "#####\"A popular sentiment analysis method, VADER, has different ratings depending on the form of the word and therefore the input should not be stemmed or lemmatized.\""
   ]
  },
  {
   "cell_type": "code",
   "execution_count": 18,
   "metadata": {},
   "outputs": [],
   "source": [
    "p.set_options(p.OPT.URL,p.OPT.RESERVED,p.OPT.MENTION)"
   ]
  },
  {
   "cell_type": "code",
   "execution_count": 19,
   "metadata": {},
   "outputs": [
    {
     "data": {
      "text/plain": [
       "['a', 'the', 'is', 'with', 'and', 'to', 'be', 'might', 'if', 'you']"
      ]
     },
     "execution_count": 19,
     "metadata": {},
     "output_type": "execute_result"
    }
   ],
   "source": [
    "# Load stop words \n",
    "# stop_words = stopwords.words('english')\n",
    "stop_words = []\n",
    "stop_words +=['a','the','is','with','and','to','be','might','if','you']\n",
    "# stop_words = set(stop_words)\n",
    "stop_words"
   ]
  },
  {
   "cell_type": "code",
   "execution_count": 20,
   "metadata": {},
   "outputs": [],
   "source": [
    "#Handling apostrophe\n",
    "import re\n",
    "\n",
    "def apostrophe_remover(text):\n",
    "    \n",
    "    text = re.sub(r\"won’t\", \"will not\", text)\n",
    "    text = re.sub(r\"can\\’t\", \"can not\", text)\n",
    "    text = re.sub(r\"n\\’t\", \" not\", text)\n",
    "    text = re.sub(r\"\\’re\", \" are\", text)\n",
    "    text = re.sub(r\"\\’s\", \" is\", text)\n",
    "    text = re.sub(r\"\\’d\", \" would\", text)\n",
    "    text = re.sub(r\"\\’ll\", \" will\", text)\n",
    "    text = re.sub(r\"\\’t\", \" not\", text)\n",
    "    text = re.sub(r\"\\’ve\", \" have\", text)\n",
    "    text = re.sub(r\"\\’m\", \" am\", text)\n",
    "    text = re.sub(r\"\\'m\", \" am\", text)\n",
    "    return text"
   ]
  },
  {
   "cell_type": "code",
   "execution_count": 21,
   "metadata": {},
   "outputs": [],
   "source": [
    "tweet_clean = []\n",
    "for tweet in df_tweets['tweet']:\n",
    "    t = apostrophe_remover(tweet)\n",
    "    t = p.clean(str(t)).replace(\":\",' ')\n",
    "    t = p.clean(str(t)).replace(\"-\",' ')\n",
    "    t = p.clean(str(t)).replace(\"’\",'')\n",
    "    t = p.clean(str(t)).replace(\"#\",'')\n",
    "    t = p.clean(str(t)).replace(\"‘\",'')\n",
    "    t = p.clean(str(t)).replace(\",\",'')\n",
    "    t1 = html.unescape(t)\n",
    "    t1 = t1.split()\n",
    "    t2 = [w for w in t1 if w not in stop_words]\n",
    "#     t2 = [lmtzr.lemmatize(lmtzr.lemmatize(w,pos='v'),pos='n') for w in t1 if w not in stop_words]\n",
    "    t3 = ' '.join(t2)\n",
    "    tweet_clean.append(t3)\n"
   ]
  },
  {
   "cell_type": "code",
   "execution_count": 22,
   "metadata": {},
   "outputs": [],
   "source": [
    "df_tweets['tweet_clean'] = [tweet for tweet in tweet_clean]"
   ]
  },
  {
   "cell_type": "code",
   "execution_count": 23,
   "metadata": {},
   "outputs": [],
   "source": [
    "df_tweets = df_tweets.drop_duplicates(subset=['tweet_clean'])"
   ]
  },
  {
   "cell_type": "code",
   "execution_count": 24,
   "metadata": {},
   "outputs": [
    {
     "data": {
      "text/plain": [
       "(263935, 13)"
      ]
     },
     "execution_count": 24,
     "metadata": {},
     "output_type": "execute_result"
    }
   ],
   "source": [
    "df_tweets.shape"
   ]
  },
  {
   "cell_type": "code",
   "execution_count": 25,
   "metadata": {},
   "outputs": [
    {
     "data": {
      "text/html": [
       "<div>\n",
       "<style scoped>\n",
       "    .dataframe tbody tr th:only-of-type {\n",
       "        vertical-align: middle;\n",
       "    }\n",
       "\n",
       "    .dataframe tbody tr th {\n",
       "        vertical-align: top;\n",
       "    }\n",
       "\n",
       "    .dataframe thead th {\n",
       "        text-align: right;\n",
       "    }\n",
       "</style>\n",
       "<table border=\"1\" class=\"dataframe\">\n",
       "  <thead>\n",
       "    <tr style=\"text-align: right;\">\n",
       "      <th></th>\n",
       "      <th>_id</th>\n",
       "      <th>tweet</th>\n",
       "      <th>topic</th>\n",
       "      <th>created_at</th>\n",
       "      <th>retweet_count</th>\n",
       "      <th>favorite_count</th>\n",
       "      <th>location</th>\n",
       "      <th>coordinates</th>\n",
       "      <th>processed_dttm</th>\n",
       "      <th>_msgid</th>\n",
       "      <th>hashtags</th>\n",
       "      <th>candidate_hashtag</th>\n",
       "      <th>tweet_clean</th>\n",
       "    </tr>\n",
       "  </thead>\n",
       "  <tbody>\n",
       "    <tr>\n",
       "      <th>0</th>\n",
       "      <td>5f84f41748abb2001038ef10</td>\n",
       "      <td>#trump is better than #Biden #ImOneHundredPercentSureThat</td>\n",
       "      <td>tweets/edwardst894</td>\n",
       "      <td>2020-10-13 00:25:51.000</td>\n",
       "      <td>NaN</td>\n",
       "      <td>NaN</td>\n",
       "      <td>Tennessee, USA</td>\n",
       "      <td>NaN</td>\n",
       "      <td>2020-10-13 00:25:59.870</td>\n",
       "      <td>e42ef5c9.731c08</td>\n",
       "      <td>[#biden, #imonehundredpercentsurethat, #trump]</td>\n",
       "      <td>biden</td>\n",
       "      <td>trump better than Biden ImOneHundredPercentSureThat</td>\n",
       "    </tr>\n",
       "    <tr>\n",
       "      <th>1</th>\n",
       "      <td>5f84f47148abb2001038ef17</td>\n",
       "      <td>@MiamiHerald Things might be different if voters knew about the documented crimes of #Obama,#Biden,#Clinton&amp;amp; #Kerry… https://t.co/XScBUSsMs0</td>\n",
       "      <td>tweets/Martico1285</td>\n",
       "      <td>2020-10-13 00:26:09.000</td>\n",
       "      <td>NaN</td>\n",
       "      <td>NaN</td>\n",
       "      <td>Australia</td>\n",
       "      <td>NaN</td>\n",
       "      <td>2020-10-13 00:27:29.892</td>\n",
       "      <td>8834f408.37e908</td>\n",
       "      <td>[#biden, #kerry, #obama, #clinton]</td>\n",
       "      <td>biden</td>\n",
       "      <td>Things different voters knew about documented crimes of ObamaBidenClinton&amp; Kerry…</td>\n",
       "    </tr>\n",
       "    <tr>\n",
       "      <th>2</th>\n",
       "      <td>5f84f48948abb2001038ef19</td>\n",
       "      <td>The VA was horrible under the #Obama and #Biden administration</td>\n",
       "      <td>tweets/TeufelHundenDog</td>\n",
       "      <td>2020-10-13 00:26:15.000</td>\n",
       "      <td>NaN</td>\n",
       "      <td>NaN</td>\n",
       "      <td>Missouri, USA</td>\n",
       "      <td>NaN</td>\n",
       "      <td>2020-10-13 00:27:53.901</td>\n",
       "      <td>d34a9dab.8ae53</td>\n",
       "      <td>[#biden, #obama]</td>\n",
       "      <td>biden</td>\n",
       "      <td>The VA was horrible under Obama Biden administration</td>\n",
       "    </tr>\n",
       "    <tr>\n",
       "      <th>3</th>\n",
       "      <td>5f84f4c548abb2001038ef21</td>\n",
       "      <td>#Biden #biden and #obama killed VETS! @DNC  SAY NO to #JoeBiden</td>\n",
       "      <td>tweets/Audrey57659038</td>\n",
       "      <td>2020-10-13 00:26:33.000</td>\n",
       "      <td>NaN</td>\n",
       "      <td>NaN</td>\n",
       "      <td>NaN</td>\n",
       "      <td>NaN</td>\n",
       "      <td>2020-10-13 00:28:53.924</td>\n",
       "      <td>e3039c13.efb9e</td>\n",
       "      <td>[#biden, #joebiden, #obama]</td>\n",
       "      <td>biden</td>\n",
       "      <td>Biden biden obama killed VETS! SAY NO JoeBiden</td>\n",
       "    </tr>\n",
       "    <tr>\n",
       "      <th>4</th>\n",
       "      <td>5f84f58548abb2001038ef30</td>\n",
       "      <td>@MariannaNBCNews @JoeBiden Hey @MariannaNBCNews,\\nCould you ask #Biden what he is talking about here? If there ARE p… https://t.co/8rxDeqNYhB</td>\n",
       "      <td>tweets/marykinva</td>\n",
       "      <td>2020-10-13 00:27:12.000</td>\n",
       "      <td>NaN</td>\n",
       "      <td>NaN</td>\n",
       "      <td>Virginia, USA</td>\n",
       "      <td>NaN</td>\n",
       "      <td>2020-10-13 00:32:05.969</td>\n",
       "      <td>2981a8a2.9a3098</td>\n",
       "      <td>[#biden]</td>\n",
       "      <td>biden</td>\n",
       "      <td>Hey Could ask Biden what he talking about here? If there ARE p…</td>\n",
       "    </tr>\n",
       "    <tr>\n",
       "      <th>...</th>\n",
       "      <td>...</td>\n",
       "      <td>...</td>\n",
       "      <td>...</td>\n",
       "      <td>...</td>\n",
       "      <td>...</td>\n",
       "      <td>...</td>\n",
       "      <td>...</td>\n",
       "      <td>...</td>\n",
       "      <td>...</td>\n",
       "      <td>...</td>\n",
       "      <td>...</td>\n",
       "      <td>...</td>\n",
       "      <td>...</td>\n",
       "    </tr>\n",
       "    <tr>\n",
       "      <th>296048</th>\n",
       "      <td>5fa14d9e550b620011a7d180</td>\n",
       "      <td>@coachmikeb12 @rock_golf @PittsburghPG @mtgreenee @pgopinions So did #trump arrange for #RBG to die? It wash… https://t.co/tGzwSLN9Jf</td>\n",
       "      <td>tweets/stewbert</td>\n",
       "      <td>2020-11-03 10:27:24.000</td>\n",
       "      <td>NaN</td>\n",
       "      <td>NaN</td>\n",
       "      <td>Jamaica</td>\n",
       "      <td>NaN</td>\n",
       "      <td>2020-11-03 12:31:26.623</td>\n",
       "      <td>c5298fa7.d36e5</td>\n",
       "      <td>[#rbg, #trump]</td>\n",
       "      <td>trump</td>\n",
       "      <td>So did trump arrange for RBG die? It wash…</td>\n",
       "    </tr>\n",
       "    <tr>\n",
       "      <th>296049</th>\n",
       "      <td>5fa14da5550b620011a7d182</td>\n",
       "      <td>Is it bad I actually think internationally the world is safer if #Trump wins this election. People are more cautiou… https://t.co/qXi8TXr0ZN</td>\n",
       "      <td>tweets/GND1989</td>\n",
       "      <td>2020-11-03 10:27:26.000</td>\n",
       "      <td>NaN</td>\n",
       "      <td>NaN</td>\n",
       "      <td>Scotland, United Kingdom</td>\n",
       "      <td>NaN</td>\n",
       "      <td>2020-11-03 12:31:33.026</td>\n",
       "      <td>d4b5d900.4d55f8</td>\n",
       "      <td>[#trump]</td>\n",
       "      <td>trump</td>\n",
       "      <td>Is it bad I actually think internationally world safer Trump wins this election. People are more cautiou…</td>\n",
       "    </tr>\n",
       "    <tr>\n",
       "      <th>296050</th>\n",
       "      <td>5fa14da5550b620011a7d183</td>\n",
       "      <td>#Trump does not want your #vote to #count.\\nGo back to where you came from...</td>\n",
       "      <td>tweets/richardandjai</td>\n",
       "      <td>2020-11-03 10:27:27.000</td>\n",
       "      <td>NaN</td>\n",
       "      <td>NaN</td>\n",
       "      <td>NY</td>\n",
       "      <td>NaN</td>\n",
       "      <td>2020-11-03 12:31:33.827</td>\n",
       "      <td>86c804a8.71fa88</td>\n",
       "      <td>[#count, #vote, #trump]</td>\n",
       "      <td>trump</td>\n",
       "      <td>Trump does not want your vote count. Go back where came from...</td>\n",
       "    </tr>\n",
       "    <tr>\n",
       "      <th>296051</th>\n",
       "      <td>5fa14db6550b620011a7d189</td>\n",
       "      <td>'A is for antisemitism': An alphabetical guide to #Trump's worst moments \\n\\nThis A-to-Z takes us from Trump's antise… https://t.co/Q4DsaNWb1o</td>\n",
       "      <td>tweets/DennisKoch10</td>\n",
       "      <td>2020-11-03 10:27:40.000</td>\n",
       "      <td>NaN</td>\n",
       "      <td>NaN</td>\n",
       "      <td>Edmonton Alberta</td>\n",
       "      <td>NaN</td>\n",
       "      <td>2020-11-03 12:31:50.632</td>\n",
       "      <td>674e88f3.a6d488</td>\n",
       "      <td>[#trump]</td>\n",
       "      <td>trump</td>\n",
       "      <td>'A for antisemitism' An alphabetical guide Trump's worst moments This A Z takes us from Trump's antise…</td>\n",
       "    </tr>\n",
       "    <tr>\n",
       "      <th>296052</th>\n",
       "      <td>5fa14db5550b620011a7d188</td>\n",
       "      <td>This day will be the most important day in our history. VOTE DONALD J. TRUMP!! #MAGA #FourMoreYears #Trump #Trump2020</td>\n",
       "      <td>tweets/TomStanislav1</td>\n",
       "      <td>2020-11-03 10:27:40.000</td>\n",
       "      <td>NaN</td>\n",
       "      <td>NaN</td>\n",
       "      <td>Ostrava, Česká republika</td>\n",
       "      <td>NaN</td>\n",
       "      <td>2020-11-03 12:31:49.831</td>\n",
       "      <td>e2aeeb49.24c7e8</td>\n",
       "      <td>[#maga, #fourmoreyears, #trump, #trump2020]</td>\n",
       "      <td>trump</td>\n",
       "      <td>This day will most important day in our history. VOTE DONALD J. TRUMP!! MAGA FourMoreYears Trump Trump2020</td>\n",
       "    </tr>\n",
       "  </tbody>\n",
       "</table>\n",
       "<p>263935 rows × 13 columns</p>\n",
       "</div>"
      ],
      "text/plain": [
       "                             _id  \\\n",
       "0       5f84f41748abb2001038ef10   \n",
       "1       5f84f47148abb2001038ef17   \n",
       "2       5f84f48948abb2001038ef19   \n",
       "3       5f84f4c548abb2001038ef21   \n",
       "4       5f84f58548abb2001038ef30   \n",
       "...                          ...   \n",
       "296048  5fa14d9e550b620011a7d180   \n",
       "296049  5fa14da5550b620011a7d182   \n",
       "296050  5fa14da5550b620011a7d183   \n",
       "296051  5fa14db6550b620011a7d189   \n",
       "296052  5fa14db5550b620011a7d188   \n",
       "\n",
       "                                                                                                                                                   tweet  \\\n",
       "0       #trump is better than #Biden #ImOneHundredPercentSureThat                                                                                          \n",
       "1       @MiamiHerald Things might be different if voters knew about the documented crimes of #Obama,#Biden,#Clinton&amp; #Kerry… https://t.co/XScBUSsMs0   \n",
       "2       The VA was horrible under the #Obama and #Biden administration                                                                                     \n",
       "3       #Biden #biden and #obama killed VETS! @DNC  SAY NO to #JoeBiden                                                                                    \n",
       "4       @MariannaNBCNews @JoeBiden Hey @MariannaNBCNews,\\nCould you ask #Biden what he is talking about here? If there ARE p… https://t.co/8rxDeqNYhB      \n",
       "...                                                                                                                                               ...      \n",
       "296048  @coachmikeb12 @rock_golf @PittsburghPG @mtgreenee @pgopinions So did #trump arrange for #RBG to die? It wash… https://t.co/tGzwSLN9Jf              \n",
       "296049  Is it bad I actually think internationally the world is safer if #Trump wins this election. People are more cautiou… https://t.co/qXi8TXr0ZN       \n",
       "296050  #Trump does not want your #vote to #count.\\nGo back to where you came from...                                                                      \n",
       "296051  'A is for antisemitism': An alphabetical guide to #Trump's worst moments \\n\\nThis A-to-Z takes us from Trump's antise… https://t.co/Q4DsaNWb1o     \n",
       "296052  This day will be the most important day in our history. VOTE DONALD J. TRUMP!! #MAGA #FourMoreYears #Trump #Trump2020                              \n",
       "\n",
       "                         topic               created_at  retweet_count  \\\n",
       "0       tweets/edwardst894      2020-10-13 00:25:51.000 NaN              \n",
       "1       tweets/Martico1285      2020-10-13 00:26:09.000 NaN              \n",
       "2       tweets/TeufelHundenDog  2020-10-13 00:26:15.000 NaN              \n",
       "3       tweets/Audrey57659038   2020-10-13 00:26:33.000 NaN              \n",
       "4       tweets/marykinva        2020-10-13 00:27:12.000 NaN              \n",
       "...                  ...                            ...  ..              \n",
       "296048  tweets/stewbert         2020-11-03 10:27:24.000 NaN              \n",
       "296049  tweets/GND1989          2020-11-03 10:27:26.000 NaN              \n",
       "296050  tweets/richardandjai    2020-11-03 10:27:27.000 NaN              \n",
       "296051  tweets/DennisKoch10     2020-11-03 10:27:40.000 NaN              \n",
       "296052  tweets/TomStanislav1    2020-11-03 10:27:40.000 NaN              \n",
       "\n",
       "        favorite_count                  location  coordinates  \\\n",
       "0      NaN              Tennessee, USA           NaN            \n",
       "1      NaN              Australia                NaN            \n",
       "2      NaN              Missouri, USA            NaN            \n",
       "3      NaN              NaN                      NaN            \n",
       "4      NaN              Virginia, USA            NaN            \n",
       "...     ..                        ...             ..            \n",
       "296048 NaN              Jamaica                  NaN            \n",
       "296049 NaN              Scotland, United Kingdom NaN            \n",
       "296050 NaN              NY                       NaN            \n",
       "296051 NaN              Edmonton Alberta         NaN            \n",
       "296052 NaN              Ostrava, Česká republika NaN            \n",
       "\n",
       "                 processed_dttm           _msgid  \\\n",
       "0       2020-10-13 00:25:59.870  e42ef5c9.731c08   \n",
       "1       2020-10-13 00:27:29.892  8834f408.37e908   \n",
       "2       2020-10-13 00:27:53.901  d34a9dab.8ae53    \n",
       "3       2020-10-13 00:28:53.924  e3039c13.efb9e    \n",
       "4       2020-10-13 00:32:05.969  2981a8a2.9a3098   \n",
       "...                         ...              ...   \n",
       "296048  2020-11-03 12:31:26.623  c5298fa7.d36e5    \n",
       "296049  2020-11-03 12:31:33.026  d4b5d900.4d55f8   \n",
       "296050  2020-11-03 12:31:33.827  86c804a8.71fa88   \n",
       "296051  2020-11-03 12:31:50.632  674e88f3.a6d488   \n",
       "296052  2020-11-03 12:31:49.831  e2aeeb49.24c7e8   \n",
       "\n",
       "                                              hashtags candidate_hashtag  \\\n",
       "0       [#biden, #imonehundredpercentsurethat, #trump]  biden              \n",
       "1       [#biden, #kerry, #obama, #clinton]              biden              \n",
       "2       [#biden, #obama]                                biden              \n",
       "3       [#biden, #joebiden, #obama]                     biden              \n",
       "4       [#biden]                                        biden              \n",
       "...          ...                                          ...              \n",
       "296048  [#rbg, #trump]                                  trump              \n",
       "296049  [#trump]                                        trump              \n",
       "296050  [#count, #vote, #trump]                         trump              \n",
       "296051  [#trump]                                        trump              \n",
       "296052  [#maga, #fourmoreyears, #trump, #trump2020]     trump              \n",
       "\n",
       "                                                                                                       tweet_clean  \n",
       "0       trump better than Biden ImOneHundredPercentSureThat                                                         \n",
       "1       Things different voters knew about documented crimes of ObamaBidenClinton& Kerry…                           \n",
       "2       The VA was horrible under Obama Biden administration                                                        \n",
       "3       Biden biden obama killed VETS! SAY NO JoeBiden                                                              \n",
       "4       Hey Could ask Biden what he talking about here? If there ARE p…                                             \n",
       "...                                                                 ...                                             \n",
       "296048  So did trump arrange for RBG die? It wash…                                                                  \n",
       "296049  Is it bad I actually think internationally world safer Trump wins this election. People are more cautiou…   \n",
       "296050  Trump does not want your vote count. Go back where came from...                                             \n",
       "296051  'A for antisemitism' An alphabetical guide Trump's worst moments This A Z takes us from Trump's antise…     \n",
       "296052  This day will most important day in our history. VOTE DONALD J. TRUMP!! MAGA FourMoreYears Trump Trump2020  \n",
       "\n",
       "[263935 rows x 13 columns]"
      ]
     },
     "execution_count": 25,
     "metadata": {},
     "output_type": "execute_result"
    }
   ],
   "source": [
    "df_tweets"
   ]
  },
  {
   "cell_type": "markdown",
   "metadata": {},
   "source": [
    "### Sentiment Analysis"
   ]
  },
  {
   "cell_type": "code",
   "execution_count": 26,
   "metadata": {},
   "outputs": [],
   "source": [
    "# sentiment analysis (positive, negative, neutral, compound)\n",
    "pos = []\n",
    "neg = []\n",
    "neu = []\n",
    "compound = []\n",
    "\n",
    "# get sentiment scores for each review (original)\n",
    "sid = SentimentIntensityAnalyzer()\n",
    "for tweet in df_tweets['tweet_clean']:\n",
    "    ss = sid.polarity_scores(tweet)\n",
    "    neg.append(ss['neg'])\n",
    "    neu.append(ss['neu'])\n",
    "    pos.append(ss['pos'])\n",
    "    compound.append(ss['compound'])"
   ]
  },
  {
   "cell_type": "code",
   "execution_count": 27,
   "metadata": {},
   "outputs": [],
   "source": [
    "df_tweets['positive'] = pos\n",
    "df_tweets['negative'] = neg\n",
    "df_tweets['neutral'] = neu\n",
    "df_tweets['compound'] = compound"
   ]
  },
  {
   "cell_type": "code",
   "execution_count": 28,
   "metadata": {},
   "outputs": [
    {
     "data": {
      "text/html": [
       "<div>\n",
       "<style scoped>\n",
       "    .dataframe tbody tr th:only-of-type {\n",
       "        vertical-align: middle;\n",
       "    }\n",
       "\n",
       "    .dataframe tbody tr th {\n",
       "        vertical-align: top;\n",
       "    }\n",
       "\n",
       "    .dataframe thead th {\n",
       "        text-align: right;\n",
       "    }\n",
       "</style>\n",
       "<table border=\"1\" class=\"dataframe\">\n",
       "  <thead>\n",
       "    <tr style=\"text-align: right;\">\n",
       "      <th></th>\n",
       "      <th>_id</th>\n",
       "      <th>tweet</th>\n",
       "      <th>topic</th>\n",
       "      <th>created_at</th>\n",
       "      <th>retweet_count</th>\n",
       "      <th>favorite_count</th>\n",
       "      <th>location</th>\n",
       "      <th>coordinates</th>\n",
       "      <th>processed_dttm</th>\n",
       "      <th>_msgid</th>\n",
       "      <th>hashtags</th>\n",
       "      <th>candidate_hashtag</th>\n",
       "      <th>tweet_clean</th>\n",
       "      <th>positive</th>\n",
       "      <th>negative</th>\n",
       "      <th>neutral</th>\n",
       "      <th>compound</th>\n",
       "    </tr>\n",
       "  </thead>\n",
       "  <tbody>\n",
       "    <tr>\n",
       "      <th>0</th>\n",
       "      <td>5f84f41748abb2001038ef10</td>\n",
       "      <td>#trump is better than #Biden #ImOneHundredPercentSureThat</td>\n",
       "      <td>tweets/edwardst894</td>\n",
       "      <td>2020-10-13 00:25:51.000</td>\n",
       "      <td>NaN</td>\n",
       "      <td>NaN</td>\n",
       "      <td>Tennessee, USA</td>\n",
       "      <td>NaN</td>\n",
       "      <td>2020-10-13 00:25:59.870</td>\n",
       "      <td>e42ef5c9.731c08</td>\n",
       "      <td>[#biden, #imonehundredpercentsurethat, #trump]</td>\n",
       "      <td>biden</td>\n",
       "      <td>trump better than Biden ImOneHundredPercentSureThat</td>\n",
       "      <td>0.420</td>\n",
       "      <td>0.000</td>\n",
       "      <td>0.580</td>\n",
       "      <td>0.4404</td>\n",
       "    </tr>\n",
       "    <tr>\n",
       "      <th>1</th>\n",
       "      <td>5f84f47148abb2001038ef17</td>\n",
       "      <td>@MiamiHerald Things might be different if voters knew about the documented crimes of #Obama,#Biden,#Clinton&amp;amp; #Kerry… https://t.co/XScBUSsMs0</td>\n",
       "      <td>tweets/Martico1285</td>\n",
       "      <td>2020-10-13 00:26:09.000</td>\n",
       "      <td>NaN</td>\n",
       "      <td>NaN</td>\n",
       "      <td>Australia</td>\n",
       "      <td>NaN</td>\n",
       "      <td>2020-10-13 00:27:29.892</td>\n",
       "      <td>8834f408.37e908</td>\n",
       "      <td>[#biden, #kerry, #obama, #clinton]</td>\n",
       "      <td>biden</td>\n",
       "      <td>Things different voters knew about documented crimes of ObamaBidenClinton&amp; Kerry…</td>\n",
       "      <td>0.000</td>\n",
       "      <td>0.000</td>\n",
       "      <td>1.000</td>\n",
       "      <td>0.0000</td>\n",
       "    </tr>\n",
       "    <tr>\n",
       "      <th>2</th>\n",
       "      <td>5f84f48948abb2001038ef19</td>\n",
       "      <td>The VA was horrible under the #Obama and #Biden administration</td>\n",
       "      <td>tweets/TeufelHundenDog</td>\n",
       "      <td>2020-10-13 00:26:15.000</td>\n",
       "      <td>NaN</td>\n",
       "      <td>NaN</td>\n",
       "      <td>Missouri, USA</td>\n",
       "      <td>NaN</td>\n",
       "      <td>2020-10-13 00:27:53.901</td>\n",
       "      <td>d34a9dab.8ae53</td>\n",
       "      <td>[#biden, #obama]</td>\n",
       "      <td>biden</td>\n",
       "      <td>The VA was horrible under Obama Biden administration</td>\n",
       "      <td>0.000</td>\n",
       "      <td>0.333</td>\n",
       "      <td>0.667</td>\n",
       "      <td>-0.5423</td>\n",
       "    </tr>\n",
       "    <tr>\n",
       "      <th>3</th>\n",
       "      <td>5f84f4c548abb2001038ef21</td>\n",
       "      <td>#Biden #biden and #obama killed VETS! @DNC  SAY NO to #JoeBiden</td>\n",
       "      <td>tweets/Audrey57659038</td>\n",
       "      <td>2020-10-13 00:26:33.000</td>\n",
       "      <td>NaN</td>\n",
       "      <td>NaN</td>\n",
       "      <td>NaN</td>\n",
       "      <td>NaN</td>\n",
       "      <td>2020-10-13 00:28:53.924</td>\n",
       "      <td>e3039c13.efb9e</td>\n",
       "      <td>[#biden, #joebiden, #obama]</td>\n",
       "      <td>biden</td>\n",
       "      <td>Biden biden obama killed VETS! SAY NO JoeBiden</td>\n",
       "      <td>0.000</td>\n",
       "      <td>0.563</td>\n",
       "      <td>0.437</td>\n",
       "      <td>-0.8283</td>\n",
       "    </tr>\n",
       "    <tr>\n",
       "      <th>4</th>\n",
       "      <td>5f84f58548abb2001038ef30</td>\n",
       "      <td>@MariannaNBCNews @JoeBiden Hey @MariannaNBCNews,\\nCould you ask #Biden what he is talking about here? If there ARE p… https://t.co/8rxDeqNYhB</td>\n",
       "      <td>tweets/marykinva</td>\n",
       "      <td>2020-10-13 00:27:12.000</td>\n",
       "      <td>NaN</td>\n",
       "      <td>NaN</td>\n",
       "      <td>Virginia, USA</td>\n",
       "      <td>NaN</td>\n",
       "      <td>2020-10-13 00:32:05.969</td>\n",
       "      <td>2981a8a2.9a3098</td>\n",
       "      <td>[#biden]</td>\n",
       "      <td>biden</td>\n",
       "      <td>Hey Could ask Biden what he talking about here? If there ARE p…</td>\n",
       "      <td>0.000</td>\n",
       "      <td>0.000</td>\n",
       "      <td>1.000</td>\n",
       "      <td>0.0000</td>\n",
       "    </tr>\n",
       "    <tr>\n",
       "      <th>...</th>\n",
       "      <td>...</td>\n",
       "      <td>...</td>\n",
       "      <td>...</td>\n",
       "      <td>...</td>\n",
       "      <td>...</td>\n",
       "      <td>...</td>\n",
       "      <td>...</td>\n",
       "      <td>...</td>\n",
       "      <td>...</td>\n",
       "      <td>...</td>\n",
       "      <td>...</td>\n",
       "      <td>...</td>\n",
       "      <td>...</td>\n",
       "      <td>...</td>\n",
       "      <td>...</td>\n",
       "      <td>...</td>\n",
       "      <td>...</td>\n",
       "    </tr>\n",
       "    <tr>\n",
       "      <th>296048</th>\n",
       "      <td>5fa14d9e550b620011a7d180</td>\n",
       "      <td>@coachmikeb12 @rock_golf @PittsburghPG @mtgreenee @pgopinions So did #trump arrange for #RBG to die? It wash… https://t.co/tGzwSLN9Jf</td>\n",
       "      <td>tweets/stewbert</td>\n",
       "      <td>2020-11-03 10:27:24.000</td>\n",
       "      <td>NaN</td>\n",
       "      <td>NaN</td>\n",
       "      <td>Jamaica</td>\n",
       "      <td>NaN</td>\n",
       "      <td>2020-11-03 12:31:26.623</td>\n",
       "      <td>c5298fa7.d36e5</td>\n",
       "      <td>[#rbg, #trump]</td>\n",
       "      <td>trump</td>\n",
       "      <td>So did trump arrange for RBG die? It wash…</td>\n",
       "      <td>0.000</td>\n",
       "      <td>0.328</td>\n",
       "      <td>0.672</td>\n",
       "      <td>-0.5994</td>\n",
       "    </tr>\n",
       "    <tr>\n",
       "      <th>296049</th>\n",
       "      <td>5fa14da5550b620011a7d182</td>\n",
       "      <td>Is it bad I actually think internationally the world is safer if #Trump wins this election. People are more cautiou… https://t.co/qXi8TXr0ZN</td>\n",
       "      <td>tweets/GND1989</td>\n",
       "      <td>2020-11-03 10:27:26.000</td>\n",
       "      <td>NaN</td>\n",
       "      <td>NaN</td>\n",
       "      <td>Scotland, United Kingdom</td>\n",
       "      <td>NaN</td>\n",
       "      <td>2020-11-03 12:31:33.026</td>\n",
       "      <td>d4b5d900.4d55f8</td>\n",
       "      <td>[#trump]</td>\n",
       "      <td>trump</td>\n",
       "      <td>Is it bad I actually think internationally world safer Trump wins this election. People are more cautiou…</td>\n",
       "      <td>0.283</td>\n",
       "      <td>0.152</td>\n",
       "      <td>0.565</td>\n",
       "      <td>0.4588</td>\n",
       "    </tr>\n",
       "    <tr>\n",
       "      <th>296050</th>\n",
       "      <td>5fa14da5550b620011a7d183</td>\n",
       "      <td>#Trump does not want your #vote to #count.\\nGo back to where you came from...</td>\n",
       "      <td>tweets/richardandjai</td>\n",
       "      <td>2020-11-03 10:27:27.000</td>\n",
       "      <td>NaN</td>\n",
       "      <td>NaN</td>\n",
       "      <td>NY</td>\n",
       "      <td>NaN</td>\n",
       "      <td>2020-11-03 12:31:33.827</td>\n",
       "      <td>86c804a8.71fa88</td>\n",
       "      <td>[#count, #vote, #trump]</td>\n",
       "      <td>trump</td>\n",
       "      <td>Trump does not want your vote count. Go back where came from...</td>\n",
       "      <td>0.000</td>\n",
       "      <td>0.100</td>\n",
       "      <td>0.900</td>\n",
       "      <td>-0.0572</td>\n",
       "    </tr>\n",
       "    <tr>\n",
       "      <th>296051</th>\n",
       "      <td>5fa14db6550b620011a7d189</td>\n",
       "      <td>'A is for antisemitism': An alphabetical guide to #Trump's worst moments \\n\\nThis A-to-Z takes us from Trump's antise… https://t.co/Q4DsaNWb1o</td>\n",
       "      <td>tweets/DennisKoch10</td>\n",
       "      <td>2020-11-03 10:27:40.000</td>\n",
       "      <td>NaN</td>\n",
       "      <td>NaN</td>\n",
       "      <td>Edmonton Alberta</td>\n",
       "      <td>NaN</td>\n",
       "      <td>2020-11-03 12:31:50.632</td>\n",
       "      <td>674e88f3.a6d488</td>\n",
       "      <td>[#trump]</td>\n",
       "      <td>trump</td>\n",
       "      <td>'A for antisemitism' An alphabetical guide Trump's worst moments This A Z takes us from Trump's antise…</td>\n",
       "      <td>0.000</td>\n",
       "      <td>0.227</td>\n",
       "      <td>0.773</td>\n",
       "      <td>-0.6249</td>\n",
       "    </tr>\n",
       "    <tr>\n",
       "      <th>296052</th>\n",
       "      <td>5fa14db5550b620011a7d188</td>\n",
       "      <td>This day will be the most important day in our history. VOTE DONALD J. TRUMP!! #MAGA #FourMoreYears #Trump #Trump2020</td>\n",
       "      <td>tweets/TomStanislav1</td>\n",
       "      <td>2020-11-03 10:27:40.000</td>\n",
       "      <td>NaN</td>\n",
       "      <td>NaN</td>\n",
       "      <td>Ostrava, Česká republika</td>\n",
       "      <td>NaN</td>\n",
       "      <td>2020-11-03 12:31:49.831</td>\n",
       "      <td>e2aeeb49.24c7e8</td>\n",
       "      <td>[#maga, #fourmoreyears, #trump, #trump2020]</td>\n",
       "      <td>trump</td>\n",
       "      <td>This day will most important day in our history. VOTE DONALD J. TRUMP!! MAGA FourMoreYears Trump Trump2020</td>\n",
       "      <td>0.143</td>\n",
       "      <td>0.000</td>\n",
       "      <td>0.857</td>\n",
       "      <td>0.3973</td>\n",
       "    </tr>\n",
       "  </tbody>\n",
       "</table>\n",
       "<p>263935 rows × 17 columns</p>\n",
       "</div>"
      ],
      "text/plain": [
       "                             _id  \\\n",
       "0       5f84f41748abb2001038ef10   \n",
       "1       5f84f47148abb2001038ef17   \n",
       "2       5f84f48948abb2001038ef19   \n",
       "3       5f84f4c548abb2001038ef21   \n",
       "4       5f84f58548abb2001038ef30   \n",
       "...                          ...   \n",
       "296048  5fa14d9e550b620011a7d180   \n",
       "296049  5fa14da5550b620011a7d182   \n",
       "296050  5fa14da5550b620011a7d183   \n",
       "296051  5fa14db6550b620011a7d189   \n",
       "296052  5fa14db5550b620011a7d188   \n",
       "\n",
       "                                                                                                                                                   tweet  \\\n",
       "0       #trump is better than #Biden #ImOneHundredPercentSureThat                                                                                          \n",
       "1       @MiamiHerald Things might be different if voters knew about the documented crimes of #Obama,#Biden,#Clinton&amp; #Kerry… https://t.co/XScBUSsMs0   \n",
       "2       The VA was horrible under the #Obama and #Biden administration                                                                                     \n",
       "3       #Biden #biden and #obama killed VETS! @DNC  SAY NO to #JoeBiden                                                                                    \n",
       "4       @MariannaNBCNews @JoeBiden Hey @MariannaNBCNews,\\nCould you ask #Biden what he is talking about here? If there ARE p… https://t.co/8rxDeqNYhB      \n",
       "...                                                                                                                                               ...      \n",
       "296048  @coachmikeb12 @rock_golf @PittsburghPG @mtgreenee @pgopinions So did #trump arrange for #RBG to die? It wash… https://t.co/tGzwSLN9Jf              \n",
       "296049  Is it bad I actually think internationally the world is safer if #Trump wins this election. People are more cautiou… https://t.co/qXi8TXr0ZN       \n",
       "296050  #Trump does not want your #vote to #count.\\nGo back to where you came from...                                                                      \n",
       "296051  'A is for antisemitism': An alphabetical guide to #Trump's worst moments \\n\\nThis A-to-Z takes us from Trump's antise… https://t.co/Q4DsaNWb1o     \n",
       "296052  This day will be the most important day in our history. VOTE DONALD J. TRUMP!! #MAGA #FourMoreYears #Trump #Trump2020                              \n",
       "\n",
       "                         topic               created_at  retweet_count  \\\n",
       "0       tweets/edwardst894      2020-10-13 00:25:51.000 NaN              \n",
       "1       tweets/Martico1285      2020-10-13 00:26:09.000 NaN              \n",
       "2       tweets/TeufelHundenDog  2020-10-13 00:26:15.000 NaN              \n",
       "3       tweets/Audrey57659038   2020-10-13 00:26:33.000 NaN              \n",
       "4       tweets/marykinva        2020-10-13 00:27:12.000 NaN              \n",
       "...                  ...                            ...  ..              \n",
       "296048  tweets/stewbert         2020-11-03 10:27:24.000 NaN              \n",
       "296049  tweets/GND1989          2020-11-03 10:27:26.000 NaN              \n",
       "296050  tweets/richardandjai    2020-11-03 10:27:27.000 NaN              \n",
       "296051  tweets/DennisKoch10     2020-11-03 10:27:40.000 NaN              \n",
       "296052  tweets/TomStanislav1    2020-11-03 10:27:40.000 NaN              \n",
       "\n",
       "        favorite_count                  location  coordinates  \\\n",
       "0      NaN              Tennessee, USA           NaN            \n",
       "1      NaN              Australia                NaN            \n",
       "2      NaN              Missouri, USA            NaN            \n",
       "3      NaN              NaN                      NaN            \n",
       "4      NaN              Virginia, USA            NaN            \n",
       "...     ..                        ...             ..            \n",
       "296048 NaN              Jamaica                  NaN            \n",
       "296049 NaN              Scotland, United Kingdom NaN            \n",
       "296050 NaN              NY                       NaN            \n",
       "296051 NaN              Edmonton Alberta         NaN            \n",
       "296052 NaN              Ostrava, Česká republika NaN            \n",
       "\n",
       "                 processed_dttm           _msgid  \\\n",
       "0       2020-10-13 00:25:59.870  e42ef5c9.731c08   \n",
       "1       2020-10-13 00:27:29.892  8834f408.37e908   \n",
       "2       2020-10-13 00:27:53.901  d34a9dab.8ae53    \n",
       "3       2020-10-13 00:28:53.924  e3039c13.efb9e    \n",
       "4       2020-10-13 00:32:05.969  2981a8a2.9a3098   \n",
       "...                         ...              ...   \n",
       "296048  2020-11-03 12:31:26.623  c5298fa7.d36e5    \n",
       "296049  2020-11-03 12:31:33.026  d4b5d900.4d55f8   \n",
       "296050  2020-11-03 12:31:33.827  86c804a8.71fa88   \n",
       "296051  2020-11-03 12:31:50.632  674e88f3.a6d488   \n",
       "296052  2020-11-03 12:31:49.831  e2aeeb49.24c7e8   \n",
       "\n",
       "                                              hashtags candidate_hashtag  \\\n",
       "0       [#biden, #imonehundredpercentsurethat, #trump]  biden              \n",
       "1       [#biden, #kerry, #obama, #clinton]              biden              \n",
       "2       [#biden, #obama]                                biden              \n",
       "3       [#biden, #joebiden, #obama]                     biden              \n",
       "4       [#biden]                                        biden              \n",
       "...          ...                                          ...              \n",
       "296048  [#rbg, #trump]                                  trump              \n",
       "296049  [#trump]                                        trump              \n",
       "296050  [#count, #vote, #trump]                         trump              \n",
       "296051  [#trump]                                        trump              \n",
       "296052  [#maga, #fourmoreyears, #trump, #trump2020]     trump              \n",
       "\n",
       "                                                                                                       tweet_clean  \\\n",
       "0       trump better than Biden ImOneHundredPercentSureThat                                                          \n",
       "1       Things different voters knew about documented crimes of ObamaBidenClinton& Kerry…                            \n",
       "2       The VA was horrible under Obama Biden administration                                                         \n",
       "3       Biden biden obama killed VETS! SAY NO JoeBiden                                                               \n",
       "4       Hey Could ask Biden what he talking about here? If there ARE p…                                              \n",
       "...                                                                 ...                                              \n",
       "296048  So did trump arrange for RBG die? It wash…                                                                   \n",
       "296049  Is it bad I actually think internationally world safer Trump wins this election. People are more cautiou…    \n",
       "296050  Trump does not want your vote count. Go back where came from...                                              \n",
       "296051  'A for antisemitism' An alphabetical guide Trump's worst moments This A Z takes us from Trump's antise…      \n",
       "296052  This day will most important day in our history. VOTE DONALD J. TRUMP!! MAGA FourMoreYears Trump Trump2020   \n",
       "\n",
       "        positive  negative  neutral  compound  \n",
       "0       0.420     0.000     0.580    0.4404    \n",
       "1       0.000     0.000     1.000    0.0000    \n",
       "2       0.000     0.333     0.667   -0.5423    \n",
       "3       0.000     0.563     0.437   -0.8283    \n",
       "4       0.000     0.000     1.000    0.0000    \n",
       "...       ...       ...       ...       ...    \n",
       "296048  0.000     0.328     0.672   -0.5994    \n",
       "296049  0.283     0.152     0.565    0.4588    \n",
       "296050  0.000     0.100     0.900   -0.0572    \n",
       "296051  0.000     0.227     0.773   -0.6249    \n",
       "296052  0.143     0.000     0.857    0.3973    \n",
       "\n",
       "[263935 rows x 17 columns]"
      ]
     },
     "execution_count": 28,
     "metadata": {},
     "output_type": "execute_result"
    }
   ],
   "source": [
    "df_tweets"
   ]
  },
  {
   "cell_type": "code",
   "execution_count": 29,
   "metadata": {},
   "outputs": [
    {
     "data": {
      "text/plain": [
       "_id                  5f910f3427d0bb00172b1851                                                        \n",
       "tweet                Goggle #moron. \\nWhat a surprise...🤣🤣🤣\\n#Trump comes up. https://t.co/SW1GTBETPE\n",
       "topic                tweets/really_beck                                                              \n",
       "created_at           2020-10-22 02:30:22.000                                                         \n",
       "retweet_count        NaN                                                                             \n",
       "favorite_count       NaN                                                                             \n",
       "location             NaN                                                                             \n",
       "coordinates          NaN                                                                             \n",
       "processed_dttm       2020-10-22 04:48:52.067                                                         \n",
       "_msgid               86195df7.fccd                                                                   \n",
       "hashtags             [#moron, #trump]                                                                \n",
       "candidate_hashtag    trump                                                                           \n",
       "tweet_clean          Goggle moron. What surprise...🤣🤣🤣 Trump comes up.                               \n",
       "positive             0                                                                               \n",
       "negative             0.348                                                                           \n",
       "neutral              0.652                                                                           \n",
       "compound            -0.4939                                                                          \n",
       "Name: 184352, dtype: object"
      ]
     },
     "execution_count": 29,
     "metadata": {},
     "output_type": "execute_result"
    }
   ],
   "source": [
    "df_tweets.iloc[164692] "
   ]
  },
  {
   "cell_type": "code",
   "execution_count": 30,
   "metadata": {},
   "outputs": [
    {
     "data": {
      "text/plain": [
       "_id                  5f91117b27d0bb00172b18e4                                                                                                                   \n",
       "tweet                In walking out on the #EU and parroting #Trump's belligerent rhetoric on #China, #Brexit has effectively alienated… https://t.co/9trxqubDF6\n",
       "topic                tweets/medjak40                                                                                                                            \n",
       "created_at           2020-10-22 02:35:30.000                                                                                                                    \n",
       "retweet_count        NaN                                                                                                                                        \n",
       "favorite_count       NaN                                                                                                                                        \n",
       "location             Australia                                                                                                                                  \n",
       "coordinates          NaN                                                                                                                                        \n",
       "processed_dttm       2020-10-22 04:58:35.644                                                                                                                    \n",
       "_msgid               c19f42c6.131c8                                                                                                                             \n",
       "hashtags             [#eu, #brexit, #china, #trump]                                                                                                             \n",
       "candidate_hashtag    trump                                                                                                                                      \n",
       "tweet_clean          In walking out on EU parroting Trump's belligerent rhetoric on China Brexit has effectively alienated…                                     \n",
       "positive             0.172                                                                                                                                      \n",
       "negative             0                                                                                                                                          \n",
       "neutral              0.828                                                                                                                                      \n",
       "compound             0.4404                                                                                                                                     \n",
       "Name: 184400, dtype: object"
      ]
     },
     "execution_count": 30,
     "metadata": {},
     "output_type": "execute_result"
    }
   ],
   "source": [
    "df_tweets.iloc[164736] "
   ]
  },
  {
   "cell_type": "markdown",
   "metadata": {},
   "source": [
    "#### Distribution of compound scores"
   ]
  },
  {
   "cell_type": "code",
   "execution_count": 31,
   "metadata": {},
   "outputs": [
    {
     "data": {
      "text/plain": [
       "array([[<AxesSubplot:title={'center':'compound'}>]], dtype=object)"
      ]
     },
     "execution_count": 31,
     "metadata": {},
     "output_type": "execute_result"
    },
    {
     "data": {
      "image/png": "[encoded data removed]",
      "text/plain": [
       "<Figure size 432x288 with 1 Axes>"
      ]
     },
     "metadata": {
      "needs_background": "light"
     },
     "output_type": "display_data"
    }
   ],
   "source": [
    "df_tweets.hist(column=\"compound\",bins=20)"
   ]
  },
  {
   "cell_type": "code",
   "execution_count": 32,
   "metadata": {},
   "outputs": [],
   "source": [
    "conditions = [\n",
    "    df_tweets['compound'] >= .30,\n",
    "    df_tweets['compound'] <= -.30,\n",
    "    df_tweets['compound'] == 0\n",
    "]\n",
    "outcomes = ['positive','negative','unknown']\n",
    "\n",
    "df_tweets['sentiment'] = np.select(conditions,outcomes,default='neutral')"
   ]
  },
  {
   "cell_type": "code",
   "execution_count": 33,
   "metadata": {},
   "outputs": [],
   "source": [
    "df_tweets = df_tweets[df_tweets.sentiment.str.contains('positive|negative|neutral')]"
   ]
  },
  {
   "cell_type": "code",
   "execution_count": 34,
   "metadata": {},
   "outputs": [
    {
     "data": {
      "text/plain": [
       "(177790, 18)"
      ]
     },
     "execution_count": 34,
     "metadata": {},
     "output_type": "execute_result"
    }
   ],
   "source": [
    "df_tweets.shape"
   ]
  },
  {
   "cell_type": "code",
   "execution_count": 35,
   "metadata": {},
   "outputs": [
    {
     "data": {
      "text/plain": [
       "array([[<AxesSubplot:title={'center':'compound'}>]], dtype=object)"
      ]
     },
     "execution_count": 35,
     "metadata": {},
     "output_type": "execute_result"
    },
    {
     "data": {
      "image/png": "[encoded data removed]",
      "text/plain": [
       "<Figure size 432x288 with 1 Axes>"
      ]
     },
     "metadata": {
      "needs_background": "light"
     },
     "output_type": "display_data"
    }
   ],
   "source": [
    "df_tweets.hist(column=\"compound\",bins=20)"
   ]
  },
  {
   "cell_type": "code",
   "execution_count": 36,
   "metadata": {},
   "outputs": [
    {
     "data": {
      "text/plain": [
       "array([[<AxesSubplot:title={'center':'compound'}>]], dtype=object)"
      ]
     },
     "execution_count": 36,
     "metadata": {},
     "output_type": "execute_result"
    },
    {
     "data": {
      "image/png": "[encoded data removed]",
      "text/plain": [
       "<Figure size 432x288 with 1 Axes>"
      ]
     },
     "metadata": {
      "needs_background": "light"
     },
     "output_type": "display_data"
    }
   ],
   "source": [
    "df_tweets[df_tweets.candidate_hashtag=='biden'].hist(column=\"compound\",bins=20)"
   ]
  },
  {
   "cell_type": "code",
   "execution_count": 37,
   "metadata": {},
   "outputs": [
    {
     "data": {
      "text/plain": [
       "array([[<AxesSubplot:title={'center':'compound'}>]], dtype=object)"
      ]
     },
     "execution_count": 37,
     "metadata": {},
     "output_type": "execute_result"
    },
    {
     "data": {
      "image/png": "[encoded data removed]",
      "text/plain": [
       "<Figure size 432x288 with 1 Axes>"
      ]
     },
     "metadata": {
      "needs_background": "light"
     },
     "output_type": "display_data"
    }
   ],
   "source": [
    "df_tweets[df_tweets.candidate_hashtag=='trump'].hist(column=\"compound\",bins=20)"
   ]
  },
  {
   "cell_type": "code",
   "execution_count": 38,
   "metadata": {},
   "outputs": [
    {
     "data": {
      "text/plain": [
       "(59056, 18)"
      ]
     },
     "execution_count": 38,
     "metadata": {},
     "output_type": "execute_result"
    }
   ],
   "source": [
    "df_tweets[df_tweets.candidate_hashtag=='biden'].shape"
   ]
  },
  {
   "cell_type": "code",
   "execution_count": 39,
   "metadata": {},
   "outputs": [
    {
     "data": {
      "text/plain": [
       "(118734, 18)"
      ]
     },
     "execution_count": 39,
     "metadata": {},
     "output_type": "execute_result"
    }
   ],
   "source": [
    "df_tweets[df_tweets.candidate_hashtag=='trump'].shape"
   ]
  },
  {
   "cell_type": "code",
   "execution_count": 40,
   "metadata": {},
   "outputs": [
    {
     "data": {
      "text/plain": [
       "(177790, 18)"
      ]
     },
     "execution_count": 40,
     "metadata": {},
     "output_type": "execute_result"
    }
   ],
   "source": [
    "df_tweets.shape"
   ]
  },
  {
   "cell_type": "code",
   "execution_count": 41,
   "metadata": {},
   "outputs": [],
   "source": [
    "t = df_tweets.drop_duplicates(subset=['topic','positive','negative','neutral','compound'])"
   ]
  },
  {
   "cell_type": "code",
   "execution_count": 42,
   "metadata": {},
   "outputs": [
    {
     "data": {
      "text/plain": [
       "(171548, 18)"
      ]
     },
     "execution_count": 42,
     "metadata": {},
     "output_type": "execute_result"
    }
   ],
   "source": [
    "t.shape"
   ]
  },
  {
   "cell_type": "code",
   "execution_count": 43,
   "metadata": {},
   "outputs": [
    {
     "data": {
      "text/html": [
       "<div>\n",
       "<style scoped>\n",
       "    .dataframe tbody tr th:only-of-type {\n",
       "        vertical-align: middle;\n",
       "    }\n",
       "\n",
       "    .dataframe tbody tr th {\n",
       "        vertical-align: top;\n",
       "    }\n",
       "\n",
       "    .dataframe thead th {\n",
       "        text-align: right;\n",
       "    }\n",
       "</style>\n",
       "<table border=\"1\" class=\"dataframe\">\n",
       "  <thead>\n",
       "    <tr style=\"text-align: right;\">\n",
       "      <th></th>\n",
       "      <th>_id</th>\n",
       "      <th>tweet</th>\n",
       "      <th>topic</th>\n",
       "      <th>created_at</th>\n",
       "      <th>retweet_count</th>\n",
       "      <th>favorite_count</th>\n",
       "      <th>location</th>\n",
       "      <th>coordinates</th>\n",
       "      <th>processed_dttm</th>\n",
       "      <th>_msgid</th>\n",
       "      <th>hashtags</th>\n",
       "      <th>candidate_hashtag</th>\n",
       "      <th>tweet_clean</th>\n",
       "      <th>positive</th>\n",
       "      <th>negative</th>\n",
       "      <th>neutral</th>\n",
       "      <th>compound</th>\n",
       "      <th>sentiment</th>\n",
       "    </tr>\n",
       "  </thead>\n",
       "  <tbody>\n",
       "    <tr>\n",
       "      <th>0</th>\n",
       "      <td>5f84f41748abb2001038ef10</td>\n",
       "      <td>#trump is better than #Biden #ImOneHundredPercentSureThat</td>\n",
       "      <td>tweets/edwardst894</td>\n",
       "      <td>2020-10-13 00:25:51.000</td>\n",
       "      <td>NaN</td>\n",
       "      <td>NaN</td>\n",
       "      <td>Tennessee, USA</td>\n",
       "      <td>NaN</td>\n",
       "      <td>2020-10-13 00:25:59.870</td>\n",
       "      <td>e42ef5c9.731c08</td>\n",
       "      <td>[#biden, #imonehundredpercentsurethat, #trump]</td>\n",
       "      <td>biden</td>\n",
       "      <td>trump better than Biden ImOneHundredPercentSureThat</td>\n",
       "      <td>0.420</td>\n",
       "      <td>0.000</td>\n",
       "      <td>0.580</td>\n",
       "      <td>0.4404</td>\n",
       "      <td>positive</td>\n",
       "    </tr>\n",
       "    <tr>\n",
       "      <th>2</th>\n",
       "      <td>5f84f48948abb2001038ef19</td>\n",
       "      <td>The VA was horrible under the #Obama and #Biden administration</td>\n",
       "      <td>tweets/TeufelHundenDog</td>\n",
       "      <td>2020-10-13 00:26:15.000</td>\n",
       "      <td>NaN</td>\n",
       "      <td>NaN</td>\n",
       "      <td>Missouri, USA</td>\n",
       "      <td>NaN</td>\n",
       "      <td>2020-10-13 00:27:53.901</td>\n",
       "      <td>d34a9dab.8ae53</td>\n",
       "      <td>[#biden, #obama]</td>\n",
       "      <td>biden</td>\n",
       "      <td>The VA was horrible under Obama Biden administration</td>\n",
       "      <td>0.000</td>\n",
       "      <td>0.333</td>\n",
       "      <td>0.667</td>\n",
       "      <td>-0.5423</td>\n",
       "      <td>negative</td>\n",
       "    </tr>\n",
       "    <tr>\n",
       "      <th>3</th>\n",
       "      <td>5f84f4c548abb2001038ef21</td>\n",
       "      <td>#Biden #biden and #obama killed VETS! @DNC  SAY NO to #JoeBiden</td>\n",
       "      <td>tweets/Audrey57659038</td>\n",
       "      <td>2020-10-13 00:26:33.000</td>\n",
       "      <td>NaN</td>\n",
       "      <td>NaN</td>\n",
       "      <td>NaN</td>\n",
       "      <td>NaN</td>\n",
       "      <td>2020-10-13 00:28:53.924</td>\n",
       "      <td>e3039c13.efb9e</td>\n",
       "      <td>[#biden, #joebiden, #obama]</td>\n",
       "      <td>biden</td>\n",
       "      <td>Biden biden obama killed VETS! SAY NO JoeBiden</td>\n",
       "      <td>0.000</td>\n",
       "      <td>0.563</td>\n",
       "      <td>0.437</td>\n",
       "      <td>-0.8283</td>\n",
       "      <td>negative</td>\n",
       "    </tr>\n",
       "    <tr>\n",
       "      <th>5</th>\n",
       "      <td>5f84f60c48abb2001038ef3f</td>\n",
       "      <td>Too Funny!  #Biden #Democrats #Patriot #Trump</td>\n",
       "      <td>tweets/dmerk61</td>\n",
       "      <td>2020-10-13 00:27:43.000</td>\n",
       "      <td>NaN</td>\n",
       "      <td>NaN</td>\n",
       "      <td>Lexington KY, USA</td>\n",
       "      <td>NaN</td>\n",
       "      <td>2020-10-13 00:34:20.999</td>\n",
       "      <td>fb802868.5bed98</td>\n",
       "      <td>[#biden, #democrats, #patriot, #trump]</td>\n",
       "      <td>biden</td>\n",
       "      <td>Too Funny! Biden Democrats Patriot Trump</td>\n",
       "      <td>0.390</td>\n",
       "      <td>0.000</td>\n",
       "      <td>0.610</td>\n",
       "      <td>0.4926</td>\n",
       "      <td>positive</td>\n",
       "    </tr>\n",
       "    <tr>\n",
       "      <th>8</th>\n",
       "      <td>5f84f73648abb2001038ef58</td>\n",
       "      <td>They’ve scared you! Caused you to be angry with and to hate President #Trump! Imagine if you vote for Joe #Biden:\\n-… https://t.co/wJ4dfulhpf</td>\n",
       "      <td>tweets/revrmoody</td>\n",
       "      <td>2020-10-13 00:28:54.000</td>\n",
       "      <td>NaN</td>\n",
       "      <td>NaN</td>\n",
       "      <td>Missouri</td>\n",
       "      <td>NaN</td>\n",
       "      <td>2020-10-13 00:39:18.061</td>\n",
       "      <td>9db227e1.0cc4b8</td>\n",
       "      <td>[#biden, #trump]</td>\n",
       "      <td>biden</td>\n",
       "      <td>They have scared you! Caused angry hate President Trump! Imagine vote for Joe Biden …</td>\n",
       "      <td>0.000</td>\n",
       "      <td>0.488</td>\n",
       "      <td>0.512</td>\n",
       "      <td>-0.8881</td>\n",
       "      <td>negative</td>\n",
       "    </tr>\n",
       "    <tr>\n",
       "      <th>...</th>\n",
       "      <td>...</td>\n",
       "      <td>...</td>\n",
       "      <td>...</td>\n",
       "      <td>...</td>\n",
       "      <td>...</td>\n",
       "      <td>...</td>\n",
       "      <td>...</td>\n",
       "      <td>...</td>\n",
       "      <td>...</td>\n",
       "      <td>...</td>\n",
       "      <td>...</td>\n",
       "      <td>...</td>\n",
       "      <td>...</td>\n",
       "      <td>...</td>\n",
       "      <td>...</td>\n",
       "      <td>...</td>\n",
       "      <td>...</td>\n",
       "      <td>...</td>\n",
       "    </tr>\n",
       "    <tr>\n",
       "      <th>296046</th>\n",
       "      <td>5fa14d8b550b620011a7d178</td>\n",
       "      <td>@MSNBC Old News! Who doesn’t #tRUmp lash out at? He nuts✌️🦉Vote  #BidenHarris2020 to Save  America &amp;amp; Democracy</td>\n",
       "      <td>tweets/wannabesnowbird</td>\n",
       "      <td>2020-11-03 10:27:16.000</td>\n",
       "      <td>NaN</td>\n",
       "      <td>NaN</td>\n",
       "      <td>NaN</td>\n",
       "      <td>NaN</td>\n",
       "      <td>2020-11-03 12:31:07.413</td>\n",
       "      <td>a9785e1a.56058</td>\n",
       "      <td>[#bidenharris2020, #trump]</td>\n",
       "      <td>trump</td>\n",
       "      <td>Old News! Who does not tRUmp lash out at? He nuts✌️🦉Vote BidenHarris2020 Save America &amp; Democracy</td>\n",
       "      <td>0.200</td>\n",
       "      <td>0.000</td>\n",
       "      <td>0.800</td>\n",
       "      <td>0.5411</td>\n",
       "      <td>positive</td>\n",
       "    </tr>\n",
       "    <tr>\n",
       "      <th>296048</th>\n",
       "      <td>5fa14d9e550b620011a7d180</td>\n",
       "      <td>@coachmikeb12 @rock_golf @PittsburghPG @mtgreenee @pgopinions So did #trump arrange for #RBG to die? It wash… https://t.co/tGzwSLN9Jf</td>\n",
       "      <td>tweets/stewbert</td>\n",
       "      <td>2020-11-03 10:27:24.000</td>\n",
       "      <td>NaN</td>\n",
       "      <td>NaN</td>\n",
       "      <td>Jamaica</td>\n",
       "      <td>NaN</td>\n",
       "      <td>2020-11-03 12:31:26.623</td>\n",
       "      <td>c5298fa7.d36e5</td>\n",
       "      <td>[#rbg, #trump]</td>\n",
       "      <td>trump</td>\n",
       "      <td>So did trump arrange for RBG die? It wash…</td>\n",
       "      <td>0.000</td>\n",
       "      <td>0.328</td>\n",
       "      <td>0.672</td>\n",
       "      <td>-0.5994</td>\n",
       "      <td>negative</td>\n",
       "    </tr>\n",
       "    <tr>\n",
       "      <th>296049</th>\n",
       "      <td>5fa14da5550b620011a7d182</td>\n",
       "      <td>Is it bad I actually think internationally the world is safer if #Trump wins this election. People are more cautiou… https://t.co/qXi8TXr0ZN</td>\n",
       "      <td>tweets/GND1989</td>\n",
       "      <td>2020-11-03 10:27:26.000</td>\n",
       "      <td>NaN</td>\n",
       "      <td>NaN</td>\n",
       "      <td>Scotland, United Kingdom</td>\n",
       "      <td>NaN</td>\n",
       "      <td>2020-11-03 12:31:33.026</td>\n",
       "      <td>d4b5d900.4d55f8</td>\n",
       "      <td>[#trump]</td>\n",
       "      <td>trump</td>\n",
       "      <td>Is it bad I actually think internationally world safer Trump wins this election. People are more cautiou…</td>\n",
       "      <td>0.283</td>\n",
       "      <td>0.152</td>\n",
       "      <td>0.565</td>\n",
       "      <td>0.4588</td>\n",
       "      <td>positive</td>\n",
       "    </tr>\n",
       "    <tr>\n",
       "      <th>296051</th>\n",
       "      <td>5fa14db6550b620011a7d189</td>\n",
       "      <td>'A is for antisemitism': An alphabetical guide to #Trump's worst moments \\n\\nThis A-to-Z takes us from Trump's antise… https://t.co/Q4DsaNWb1o</td>\n",
       "      <td>tweets/DennisKoch10</td>\n",
       "      <td>2020-11-03 10:27:40.000</td>\n",
       "      <td>NaN</td>\n",
       "      <td>NaN</td>\n",
       "      <td>Edmonton Alberta</td>\n",
       "      <td>NaN</td>\n",
       "      <td>2020-11-03 12:31:50.632</td>\n",
       "      <td>674e88f3.a6d488</td>\n",
       "      <td>[#trump]</td>\n",
       "      <td>trump</td>\n",
       "      <td>'A for antisemitism' An alphabetical guide Trump's worst moments This A Z takes us from Trump's antise…</td>\n",
       "      <td>0.000</td>\n",
       "      <td>0.227</td>\n",
       "      <td>0.773</td>\n",
       "      <td>-0.6249</td>\n",
       "      <td>negative</td>\n",
       "    </tr>\n",
       "    <tr>\n",
       "      <th>296052</th>\n",
       "      <td>5fa14db5550b620011a7d188</td>\n",
       "      <td>This day will be the most important day in our history. VOTE DONALD J. TRUMP!! #MAGA #FourMoreYears #Trump #Trump2020</td>\n",
       "      <td>tweets/TomStanislav1</td>\n",
       "      <td>2020-11-03 10:27:40.000</td>\n",
       "      <td>NaN</td>\n",
       "      <td>NaN</td>\n",
       "      <td>Ostrava, Česká republika</td>\n",
       "      <td>NaN</td>\n",
       "      <td>2020-11-03 12:31:49.831</td>\n",
       "      <td>e2aeeb49.24c7e8</td>\n",
       "      <td>[#maga, #fourmoreyears, #trump, #trump2020]</td>\n",
       "      <td>trump</td>\n",
       "      <td>This day will most important day in our history. VOTE DONALD J. TRUMP!! MAGA FourMoreYears Trump Trump2020</td>\n",
       "      <td>0.143</td>\n",
       "      <td>0.000</td>\n",
       "      <td>0.857</td>\n",
       "      <td>0.3973</td>\n",
       "      <td>positive</td>\n",
       "    </tr>\n",
       "  </tbody>\n",
       "</table>\n",
       "<p>171548 rows × 18 columns</p>\n",
       "</div>"
      ],
      "text/plain": [
       "                             _id  \\\n",
       "0       5f84f41748abb2001038ef10   \n",
       "2       5f84f48948abb2001038ef19   \n",
       "3       5f84f4c548abb2001038ef21   \n",
       "5       5f84f60c48abb2001038ef3f   \n",
       "8       5f84f73648abb2001038ef58   \n",
       "...                          ...   \n",
       "296046  5fa14d8b550b620011a7d178   \n",
       "296048  5fa14d9e550b620011a7d180   \n",
       "296049  5fa14da5550b620011a7d182   \n",
       "296051  5fa14db6550b620011a7d189   \n",
       "296052  5fa14db5550b620011a7d188   \n",
       "\n",
       "                                                                                                                                                 tweet  \\\n",
       "0       #trump is better than #Biden #ImOneHundredPercentSureThat                                                                                        \n",
       "2       The VA was horrible under the #Obama and #Biden administration                                                                                   \n",
       "3       #Biden #biden and #obama killed VETS! @DNC  SAY NO to #JoeBiden                                                                                  \n",
       "5       Too Funny!  #Biden #Democrats #Patriot #Trump                                                                                                    \n",
       "8       They’ve scared you! Caused you to be angry with and to hate President #Trump! Imagine if you vote for Joe #Biden:\\n-… https://t.co/wJ4dfulhpf    \n",
       "...                                                                                                                                               ...    \n",
       "296046  @MSNBC Old News! Who doesn’t #tRUmp lash out at? He nuts✌️🦉Vote  #BidenHarris2020 to Save  America &amp; Democracy                               \n",
       "296048  @coachmikeb12 @rock_golf @PittsburghPG @mtgreenee @pgopinions So did #trump arrange for #RBG to die? It wash… https://t.co/tGzwSLN9Jf            \n",
       "296049  Is it bad I actually think internationally the world is safer if #Trump wins this election. People are more cautiou… https://t.co/qXi8TXr0ZN     \n",
       "296051  'A is for antisemitism': An alphabetical guide to #Trump's worst moments \\n\\nThis A-to-Z takes us from Trump's antise… https://t.co/Q4DsaNWb1o   \n",
       "296052  This day will be the most important day in our history. VOTE DONALD J. TRUMP!! #MAGA #FourMoreYears #Trump #Trump2020                            \n",
       "\n",
       "                         topic               created_at  retweet_count  \\\n",
       "0       tweets/edwardst894      2020-10-13 00:25:51.000 NaN              \n",
       "2       tweets/TeufelHundenDog  2020-10-13 00:26:15.000 NaN              \n",
       "3       tweets/Audrey57659038   2020-10-13 00:26:33.000 NaN              \n",
       "5       tweets/dmerk61          2020-10-13 00:27:43.000 NaN              \n",
       "8       tweets/revrmoody        2020-10-13 00:28:54.000 NaN              \n",
       "...                  ...                            ...  ..              \n",
       "296046  tweets/wannabesnowbird  2020-11-03 10:27:16.000 NaN              \n",
       "296048  tweets/stewbert         2020-11-03 10:27:24.000 NaN              \n",
       "296049  tweets/GND1989          2020-11-03 10:27:26.000 NaN              \n",
       "296051  tweets/DennisKoch10     2020-11-03 10:27:40.000 NaN              \n",
       "296052  tweets/TomStanislav1    2020-11-03 10:27:40.000 NaN              \n",
       "\n",
       "        favorite_count                  location  coordinates  \\\n",
       "0      NaN              Tennessee, USA           NaN            \n",
       "2      NaN              Missouri, USA            NaN            \n",
       "3      NaN              NaN                      NaN            \n",
       "5      NaN              Lexington KY, USA        NaN            \n",
       "8      NaN              Missouri                 NaN            \n",
       "...     ..                   ...                  ..            \n",
       "296046 NaN              NaN                      NaN            \n",
       "296048 NaN              Jamaica                  NaN            \n",
       "296049 NaN              Scotland, United Kingdom NaN            \n",
       "296051 NaN              Edmonton Alberta         NaN            \n",
       "296052 NaN              Ostrava, Česká republika NaN            \n",
       "\n",
       "                 processed_dttm           _msgid  \\\n",
       "0       2020-10-13 00:25:59.870  e42ef5c9.731c08   \n",
       "2       2020-10-13 00:27:53.901  d34a9dab.8ae53    \n",
       "3       2020-10-13 00:28:53.924  e3039c13.efb9e    \n",
       "5       2020-10-13 00:34:20.999  fb802868.5bed98   \n",
       "8       2020-10-13 00:39:18.061  9db227e1.0cc4b8   \n",
       "...                         ...              ...   \n",
       "296046  2020-11-03 12:31:07.413  a9785e1a.56058    \n",
       "296048  2020-11-03 12:31:26.623  c5298fa7.d36e5    \n",
       "296049  2020-11-03 12:31:33.026  d4b5d900.4d55f8   \n",
       "296051  2020-11-03 12:31:50.632  674e88f3.a6d488   \n",
       "296052  2020-11-03 12:31:49.831  e2aeeb49.24c7e8   \n",
       "\n",
       "                                              hashtags candidate_hashtag  \\\n",
       "0       [#biden, #imonehundredpercentsurethat, #trump]  biden              \n",
       "2       [#biden, #obama]                                biden              \n",
       "3       [#biden, #joebiden, #obama]                     biden              \n",
       "5       [#biden, #democrats, #patriot, #trump]          biden              \n",
       "8       [#biden, #trump]                                biden              \n",
       "...                  ...                                  ...              \n",
       "296046  [#bidenharris2020, #trump]                      trump              \n",
       "296048  [#rbg, #trump]                                  trump              \n",
       "296049  [#trump]                                        trump              \n",
       "296051  [#trump]                                        trump              \n",
       "296052  [#maga, #fourmoreyears, #trump, #trump2020]     trump              \n",
       "\n",
       "                                                                                                       tweet_clean  \\\n",
       "0       trump better than Biden ImOneHundredPercentSureThat                                                          \n",
       "2       The VA was horrible under Obama Biden administration                                                         \n",
       "3       Biden biden obama killed VETS! SAY NO JoeBiden                                                               \n",
       "5       Too Funny! Biden Democrats Patriot Trump                                                                     \n",
       "8       They have scared you! Caused angry hate President Trump! Imagine vote for Joe Biden …                        \n",
       "...                                                                                       ...                        \n",
       "296046  Old News! Who does not tRUmp lash out at? He nuts✌️🦉Vote BidenHarris2020 Save America & Democracy            \n",
       "296048  So did trump arrange for RBG die? It wash…                                                                   \n",
       "296049  Is it bad I actually think internationally world safer Trump wins this election. People are more cautiou…    \n",
       "296051  'A for antisemitism' An alphabetical guide Trump's worst moments This A Z takes us from Trump's antise…      \n",
       "296052  This day will most important day in our history. VOTE DONALD J. TRUMP!! MAGA FourMoreYears Trump Trump2020   \n",
       "\n",
       "        positive  negative  neutral  compound sentiment  \n",
       "0       0.420     0.000     0.580    0.4404    positive  \n",
       "2       0.000     0.333     0.667   -0.5423    negative  \n",
       "3       0.000     0.563     0.437   -0.8283    negative  \n",
       "5       0.390     0.000     0.610    0.4926    positive  \n",
       "8       0.000     0.488     0.512   -0.8881    negative  \n",
       "...       ...       ...       ...       ...         ...  \n",
       "296046  0.200     0.000     0.800    0.5411    positive  \n",
       "296048  0.000     0.328     0.672   -0.5994    negative  \n",
       "296049  0.283     0.152     0.565    0.4588    positive  \n",
       "296051  0.000     0.227     0.773   -0.6249    negative  \n",
       "296052  0.143     0.000     0.857    0.3973    positive  \n",
       "\n",
       "[171548 rows x 18 columns]"
      ]
     },
     "execution_count": 43,
     "metadata": {},
     "output_type": "execute_result"
    }
   ],
   "source": [
    "t"
   ]
  },
  {
   "cell_type": "code",
   "execution_count": 44,
   "metadata": {},
   "outputs": [],
   "source": [
    "### Storing dataframe into pickle file and excel"
   ]
  },
  {
   "cell_type": "code",
   "execution_count": 45,
   "metadata": {},
   "outputs": [],
   "source": [
    "t.to_pickle(\"sentiment_df.pkl\")"
   ]
  },
  {
   "cell_type": "code",
   "execution_count": 46,
   "metadata": {},
   "outputs": [],
   "source": [
    "final_unpickled = pd.read_pickle(\"sentiment_df.pkl\")"
   ]
  },
  {
   "cell_type": "code",
   "execution_count": 47,
   "metadata": {
    "collapsed": true,
    "jupyter": {
     "outputs_hidden": true
    }
   },
   "outputs": [
    {
     "data": {
      "text/html": [
       "<div>\n",
       "<style scoped>\n",
       "    .dataframe tbody tr th:only-of-type {\n",
       "        vertical-align: middle;\n",
       "    }\n",
       "\n",
       "    .dataframe tbody tr th {\n",
       "        vertical-align: top;\n",
       "    }\n",
       "\n",
       "    .dataframe thead th {\n",
       "        text-align: right;\n",
       "    }\n",
       "</style>\n",
       "<table border=\"1\" class=\"dataframe\">\n",
       "  <thead>\n",
       "    <tr style=\"text-align: right;\">\n",
       "      <th></th>\n",
       "      <th>_id</th>\n",
       "      <th>tweet</th>\n",
       "      <th>topic</th>\n",
       "      <th>created_at</th>\n",
       "      <th>retweet_count</th>\n",
       "      <th>favorite_count</th>\n",
       "      <th>location</th>\n",
       "      <th>coordinates</th>\n",
       "      <th>processed_dttm</th>\n",
       "      <th>_msgid</th>\n",
       "      <th>hashtags</th>\n",
       "      <th>candidate_hashtag</th>\n",
       "      <th>tweet_clean</th>\n",
       "      <th>positive</th>\n",
       "      <th>negative</th>\n",
       "      <th>neutral</th>\n",
       "      <th>compound</th>\n",
       "      <th>sentiment</th>\n",
       "    </tr>\n",
       "  </thead>\n",
       "  <tbody>\n",
       "    <tr>\n",
       "      <th>0</th>\n",
       "      <td>5f84f41748abb2001038ef10</td>\n",
       "      <td>#trump is better than #Biden #ImOneHundredPercentSureThat</td>\n",
       "      <td>tweets/edwardst894</td>\n",
       "      <td>2020-10-13 00:25:51.000</td>\n",
       "      <td>NaN</td>\n",
       "      <td>NaN</td>\n",
       "      <td>Tennessee, USA</td>\n",
       "      <td>NaN</td>\n",
       "      <td>2020-10-13 00:25:59.870</td>\n",
       "      <td>e42ef5c9.731c08</td>\n",
       "      <td>[#biden, #imonehundredpercentsurethat, #trump]</td>\n",
       "      <td>biden</td>\n",
       "      <td>trump better than Biden ImOneHundredPercentSureThat</td>\n",
       "      <td>0.420</td>\n",
       "      <td>0.000</td>\n",
       "      <td>0.580</td>\n",
       "      <td>0.4404</td>\n",
       "      <td>positive</td>\n",
       "    </tr>\n",
       "    <tr>\n",
       "      <th>2</th>\n",
       "      <td>5f84f48948abb2001038ef19</td>\n",
       "      <td>The VA was horrible under the #Obama and #Biden administration</td>\n",
       "      <td>tweets/TeufelHundenDog</td>\n",
       "      <td>2020-10-13 00:26:15.000</td>\n",
       "      <td>NaN</td>\n",
       "      <td>NaN</td>\n",
       "      <td>Missouri, USA</td>\n",
       "      <td>NaN</td>\n",
       "      <td>2020-10-13 00:27:53.901</td>\n",
       "      <td>d34a9dab.8ae53</td>\n",
       "      <td>[#biden, #obama]</td>\n",
       "      <td>biden</td>\n",
       "      <td>The VA was horrible under Obama Biden administration</td>\n",
       "      <td>0.000</td>\n",
       "      <td>0.333</td>\n",
       "      <td>0.667</td>\n",
       "      <td>-0.5423</td>\n",
       "      <td>negative</td>\n",
       "    </tr>\n",
       "    <tr>\n",
       "      <th>3</th>\n",
       "      <td>5f84f4c548abb2001038ef21</td>\n",
       "      <td>#Biden #biden and #obama killed VETS! @DNC  SAY NO to #JoeBiden</td>\n",
       "      <td>tweets/Audrey57659038</td>\n",
       "      <td>2020-10-13 00:26:33.000</td>\n",
       "      <td>NaN</td>\n",
       "      <td>NaN</td>\n",
       "      <td>NaN</td>\n",
       "      <td>NaN</td>\n",
       "      <td>2020-10-13 00:28:53.924</td>\n",
       "      <td>e3039c13.efb9e</td>\n",
       "      <td>[#biden, #joebiden, #obama]</td>\n",
       "      <td>biden</td>\n",
       "      <td>Biden biden obama killed VETS! SAY NO JoeBiden</td>\n",
       "      <td>0.000</td>\n",
       "      <td>0.563</td>\n",
       "      <td>0.437</td>\n",
       "      <td>-0.8283</td>\n",
       "      <td>negative</td>\n",
       "    </tr>\n",
       "    <tr>\n",
       "      <th>5</th>\n",
       "      <td>5f84f60c48abb2001038ef3f</td>\n",
       "      <td>Too Funny!  #Biden #Democrats #Patriot #Trump</td>\n",
       "      <td>tweets/dmerk61</td>\n",
       "      <td>2020-10-13 00:27:43.000</td>\n",
       "      <td>NaN</td>\n",
       "      <td>NaN</td>\n",
       "      <td>Lexington KY, USA</td>\n",
       "      <td>NaN</td>\n",
       "      <td>2020-10-13 00:34:20.999</td>\n",
       "      <td>fb802868.5bed98</td>\n",
       "      <td>[#biden, #democrats, #patriot, #trump]</td>\n",
       "      <td>biden</td>\n",
       "      <td>Too Funny! Biden Democrats Patriot Trump</td>\n",
       "      <td>0.390</td>\n",
       "      <td>0.000</td>\n",
       "      <td>0.610</td>\n",
       "      <td>0.4926</td>\n",
       "      <td>positive</td>\n",
       "    </tr>\n",
       "    <tr>\n",
       "      <th>8</th>\n",
       "      <td>5f84f73648abb2001038ef58</td>\n",
       "      <td>They’ve scared you! Caused you to be angry with and to hate President #Trump! Imagine if you vote for Joe #Biden:\\n-… https://t.co/wJ4dfulhpf</td>\n",
       "      <td>tweets/revrmoody</td>\n",
       "      <td>2020-10-13 00:28:54.000</td>\n",
       "      <td>NaN</td>\n",
       "      <td>NaN</td>\n",
       "      <td>Missouri</td>\n",
       "      <td>NaN</td>\n",
       "      <td>2020-10-13 00:39:18.061</td>\n",
       "      <td>9db227e1.0cc4b8</td>\n",
       "      <td>[#biden, #trump]</td>\n",
       "      <td>biden</td>\n",
       "      <td>They have scared you! Caused angry hate President Trump! Imagine vote for Joe Biden …</td>\n",
       "      <td>0.000</td>\n",
       "      <td>0.488</td>\n",
       "      <td>0.512</td>\n",
       "      <td>-0.8881</td>\n",
       "      <td>negative</td>\n",
       "    </tr>\n",
       "    <tr>\n",
       "      <th>...</th>\n",
       "      <td>...</td>\n",
       "      <td>...</td>\n",
       "      <td>...</td>\n",
       "      <td>...</td>\n",
       "      <td>...</td>\n",
       "      <td>...</td>\n",
       "      <td>...</td>\n",
       "      <td>...</td>\n",
       "      <td>...</td>\n",
       "      <td>...</td>\n",
       "      <td>...</td>\n",
       "      <td>...</td>\n",
       "      <td>...</td>\n",
       "      <td>...</td>\n",
       "      <td>...</td>\n",
       "      <td>...</td>\n",
       "      <td>...</td>\n",
       "      <td>...</td>\n",
       "    </tr>\n",
       "    <tr>\n",
       "      <th>296046</th>\n",
       "      <td>5fa14d8b550b620011a7d178</td>\n",
       "      <td>@MSNBC Old News! Who doesn’t #tRUmp lash out at? He nuts✌️🦉Vote  #BidenHarris2020 to Save  America &amp;amp; Democracy</td>\n",
       "      <td>tweets/wannabesnowbird</td>\n",
       "      <td>2020-11-03 10:27:16.000</td>\n",
       "      <td>NaN</td>\n",
       "      <td>NaN</td>\n",
       "      <td>NaN</td>\n",
       "      <td>NaN</td>\n",
       "      <td>2020-11-03 12:31:07.413</td>\n",
       "      <td>a9785e1a.56058</td>\n",
       "      <td>[#bidenharris2020, #trump]</td>\n",
       "      <td>trump</td>\n",
       "      <td>Old News! Who does not tRUmp lash out at? He nuts✌️🦉Vote BidenHarris2020 Save America &amp; Democracy</td>\n",
       "      <td>0.200</td>\n",
       "      <td>0.000</td>\n",
       "      <td>0.800</td>\n",
       "      <td>0.5411</td>\n",
       "      <td>positive</td>\n",
       "    </tr>\n",
       "    <tr>\n",
       "      <th>296048</th>\n",
       "      <td>5fa14d9e550b620011a7d180</td>\n",
       "      <td>@coachmikeb12 @rock_golf @PittsburghPG @mtgreenee @pgopinions So did #trump arrange for #RBG to die? It wash… https://t.co/tGzwSLN9Jf</td>\n",
       "      <td>tweets/stewbert</td>\n",
       "      <td>2020-11-03 10:27:24.000</td>\n",
       "      <td>NaN</td>\n",
       "      <td>NaN</td>\n",
       "      <td>Jamaica</td>\n",
       "      <td>NaN</td>\n",
       "      <td>2020-11-03 12:31:26.623</td>\n",
       "      <td>c5298fa7.d36e5</td>\n",
       "      <td>[#rbg, #trump]</td>\n",
       "      <td>trump</td>\n",
       "      <td>So did trump arrange for RBG die? It wash…</td>\n",
       "      <td>0.000</td>\n",
       "      <td>0.328</td>\n",
       "      <td>0.672</td>\n",
       "      <td>-0.5994</td>\n",
       "      <td>negative</td>\n",
       "    </tr>\n",
       "    <tr>\n",
       "      <th>296049</th>\n",
       "      <td>5fa14da5550b620011a7d182</td>\n",
       "      <td>Is it bad I actually think internationally the world is safer if #Trump wins this election. People are more cautiou… https://t.co/qXi8TXr0ZN</td>\n",
       "      <td>tweets/GND1989</td>\n",
       "      <td>2020-11-03 10:27:26.000</td>\n",
       "      <td>NaN</td>\n",
       "      <td>NaN</td>\n",
       "      <td>Scotland, United Kingdom</td>\n",
       "      <td>NaN</td>\n",
       "      <td>2020-11-03 12:31:33.026</td>\n",
       "      <td>d4b5d900.4d55f8</td>\n",
       "      <td>[#trump]</td>\n",
       "      <td>trump</td>\n",
       "      <td>Is it bad I actually think internationally world safer Trump wins this election. People are more cautiou…</td>\n",
       "      <td>0.283</td>\n",
       "      <td>0.152</td>\n",
       "      <td>0.565</td>\n",
       "      <td>0.4588</td>\n",
       "      <td>positive</td>\n",
       "    </tr>\n",
       "    <tr>\n",
       "      <th>296051</th>\n",
       "      <td>5fa14db6550b620011a7d189</td>\n",
       "      <td>'A is for antisemitism': An alphabetical guide to #Trump's worst moments \\n\\nThis A-to-Z takes us from Trump's antise… https://t.co/Q4DsaNWb1o</td>\n",
       "      <td>tweets/DennisKoch10</td>\n",
       "      <td>2020-11-03 10:27:40.000</td>\n",
       "      <td>NaN</td>\n",
       "      <td>NaN</td>\n",
       "      <td>Edmonton Alberta</td>\n",
       "      <td>NaN</td>\n",
       "      <td>2020-11-03 12:31:50.632</td>\n",
       "      <td>674e88f3.a6d488</td>\n",
       "      <td>[#trump]</td>\n",
       "      <td>trump</td>\n",
       "      <td>'A for antisemitism' An alphabetical guide Trump's worst moments This A Z takes us from Trump's antise…</td>\n",
       "      <td>0.000</td>\n",
       "      <td>0.227</td>\n",
       "      <td>0.773</td>\n",
       "      <td>-0.6249</td>\n",
       "      <td>negative</td>\n",
       "    </tr>\n",
       "    <tr>\n",
       "      <th>296052</th>\n",
       "      <td>5fa14db5550b620011a7d188</td>\n",
       "      <td>This day will be the most important day in our history. VOTE DONALD J. TRUMP!! #MAGA #FourMoreYears #Trump #Trump2020</td>\n",
       "      <td>tweets/TomStanislav1</td>\n",
       "      <td>2020-11-03 10:27:40.000</td>\n",
       "      <td>NaN</td>\n",
       "      <td>NaN</td>\n",
       "      <td>Ostrava, Česká republika</td>\n",
       "      <td>NaN</td>\n",
       "      <td>2020-11-03 12:31:49.831</td>\n",
       "      <td>e2aeeb49.24c7e8</td>\n",
       "      <td>[#maga, #fourmoreyears, #trump, #trump2020]</td>\n",
       "      <td>trump</td>\n",
       "      <td>This day will most important day in our history. VOTE DONALD J. TRUMP!! MAGA FourMoreYears Trump Trump2020</td>\n",
       "      <td>0.143</td>\n",
       "      <td>0.000</td>\n",
       "      <td>0.857</td>\n",
       "      <td>0.3973</td>\n",
       "      <td>positive</td>\n",
       "    </tr>\n",
       "  </tbody>\n",
       "</table>\n",
       "<p>171548 rows × 18 columns</p>\n",
       "</div>"
      ],
      "text/plain": [
       "                             _id  \\\n",
       "0       5f84f41748abb2001038ef10   \n",
       "2       5f84f48948abb2001038ef19   \n",
       "3       5f84f4c548abb2001038ef21   \n",
       "5       5f84f60c48abb2001038ef3f   \n",
       "8       5f84f73648abb2001038ef58   \n",
       "...                          ...   \n",
       "296046  5fa14d8b550b620011a7d178   \n",
       "296048  5fa14d9e550b620011a7d180   \n",
       "296049  5fa14da5550b620011a7d182   \n",
       "296051  5fa14db6550b620011a7d189   \n",
       "296052  5fa14db5550b620011a7d188   \n",
       "\n",
       "                                                                                                                                                 tweet  \\\n",
       "0       #trump is better than #Biden #ImOneHundredPercentSureThat                                                                                        \n",
       "2       The VA was horrible under the #Obama and #Biden administration                                                                                   \n",
       "3       #Biden #biden and #obama killed VETS! @DNC  SAY NO to #JoeBiden                                                                                  \n",
       "5       Too Funny!  #Biden #Democrats #Patriot #Trump                                                                                                    \n",
       "8       They’ve scared you! Caused you to be angry with and to hate President #Trump! Imagine if you vote for Joe #Biden:\\n-… https://t.co/wJ4dfulhpf    \n",
       "...                                                                                                                                               ...    \n",
       "296046  @MSNBC Old News! Who doesn’t #tRUmp lash out at? He nuts✌️🦉Vote  #BidenHarris2020 to Save  America &amp; Democracy                               \n",
       "296048  @coachmikeb12 @rock_golf @PittsburghPG @mtgreenee @pgopinions So did #trump arrange for #RBG to die? It wash… https://t.co/tGzwSLN9Jf            \n",
       "296049  Is it bad I actually think internationally the world is safer if #Trump wins this election. People are more cautiou… https://t.co/qXi8TXr0ZN     \n",
       "296051  'A is for antisemitism': An alphabetical guide to #Trump's worst moments \\n\\nThis A-to-Z takes us from Trump's antise… https://t.co/Q4DsaNWb1o   \n",
       "296052  This day will be the most important day in our history. VOTE DONALD J. TRUMP!! #MAGA #FourMoreYears #Trump #Trump2020                            \n",
       "\n",
       "                         topic               created_at  retweet_count  \\\n",
       "0       tweets/edwardst894      2020-10-13 00:25:51.000 NaN              \n",
       "2       tweets/TeufelHundenDog  2020-10-13 00:26:15.000 NaN              \n",
       "3       tweets/Audrey57659038   2020-10-13 00:26:33.000 NaN              \n",
       "5       tweets/dmerk61          2020-10-13 00:27:43.000 NaN              \n",
       "8       tweets/revrmoody        2020-10-13 00:28:54.000 NaN              \n",
       "...                  ...                            ...  ..              \n",
       "296046  tweets/wannabesnowbird  2020-11-03 10:27:16.000 NaN              \n",
       "296048  tweets/stewbert         2020-11-03 10:27:24.000 NaN              \n",
       "296049  tweets/GND1989          2020-11-03 10:27:26.000 NaN              \n",
       "296051  tweets/DennisKoch10     2020-11-03 10:27:40.000 NaN              \n",
       "296052  tweets/TomStanislav1    2020-11-03 10:27:40.000 NaN              \n",
       "\n",
       "        favorite_count                  location  coordinates  \\\n",
       "0      NaN              Tennessee, USA           NaN            \n",
       "2      NaN              Missouri, USA            NaN            \n",
       "3      NaN              NaN                      NaN            \n",
       "5      NaN              Lexington KY, USA        NaN            \n",
       "8      NaN              Missouri                 NaN            \n",
       "...     ..                   ...                  ..            \n",
       "296046 NaN              NaN                      NaN            \n",
       "296048 NaN              Jamaica                  NaN            \n",
       "296049 NaN              Scotland, United Kingdom NaN            \n",
       "296051 NaN              Edmonton Alberta         NaN            \n",
       "296052 NaN              Ostrava, Česká republika NaN            \n",
       "\n",
       "                 processed_dttm           _msgid  \\\n",
       "0       2020-10-13 00:25:59.870  e42ef5c9.731c08   \n",
       "2       2020-10-13 00:27:53.901  d34a9dab.8ae53    \n",
       "3       2020-10-13 00:28:53.924  e3039c13.efb9e    \n",
       "5       2020-10-13 00:34:20.999  fb802868.5bed98   \n",
       "8       2020-10-13 00:39:18.061  9db227e1.0cc4b8   \n",
       "...                         ...              ...   \n",
       "296046  2020-11-03 12:31:07.413  a9785e1a.56058    \n",
       "296048  2020-11-03 12:31:26.623  c5298fa7.d36e5    \n",
       "296049  2020-11-03 12:31:33.026  d4b5d900.4d55f8   \n",
       "296051  2020-11-03 12:31:50.632  674e88f3.a6d488   \n",
       "296052  2020-11-03 12:31:49.831  e2aeeb49.24c7e8   \n",
       "\n",
       "                                              hashtags candidate_hashtag  \\\n",
       "0       [#biden, #imonehundredpercentsurethat, #trump]  biden              \n",
       "2       [#biden, #obama]                                biden              \n",
       "3       [#biden, #joebiden, #obama]                     biden              \n",
       "5       [#biden, #democrats, #patriot, #trump]          biden              \n",
       "8       [#biden, #trump]                                biden              \n",
       "...                  ...                                  ...              \n",
       "296046  [#bidenharris2020, #trump]                      trump              \n",
       "296048  [#rbg, #trump]                                  trump              \n",
       "296049  [#trump]                                        trump              \n",
       "296051  [#trump]                                        trump              \n",
       "296052  [#maga, #fourmoreyears, #trump, #trump2020]     trump              \n",
       "\n",
       "                                                                                                       tweet_clean  \\\n",
       "0       trump better than Biden ImOneHundredPercentSureThat                                                          \n",
       "2       The VA was horrible under Obama Biden administration                                                         \n",
       "3       Biden biden obama killed VETS! SAY NO JoeBiden                                                               \n",
       "5       Too Funny! Biden Democrats Patriot Trump                                                                     \n",
       "8       They have scared you! Caused angry hate President Trump! Imagine vote for Joe Biden …                        \n",
       "...                                                                                       ...                        \n",
       "296046  Old News! Who does not tRUmp lash out at? He nuts✌️🦉Vote BidenHarris2020 Save America & Democracy            \n",
       "296048  So did trump arrange for RBG die? It wash…                                                                   \n",
       "296049  Is it bad I actually think internationally world safer Trump wins this election. People are more cautiou…    \n",
       "296051  'A for antisemitism' An alphabetical guide Trump's worst moments This A Z takes us from Trump's antise…      \n",
       "296052  This day will most important day in our history. VOTE DONALD J. TRUMP!! MAGA FourMoreYears Trump Trump2020   \n",
       "\n",
       "        positive  negative  neutral  compound sentiment  \n",
       "0       0.420     0.000     0.580    0.4404    positive  \n",
       "2       0.000     0.333     0.667   -0.5423    negative  \n",
       "3       0.000     0.563     0.437   -0.8283    negative  \n",
       "5       0.390     0.000     0.610    0.4926    positive  \n",
       "8       0.000     0.488     0.512   -0.8881    negative  \n",
       "...       ...       ...       ...       ...         ...  \n",
       "296046  0.200     0.000     0.800    0.5411    positive  \n",
       "296048  0.000     0.328     0.672   -0.5994    negative  \n",
       "296049  0.283     0.152     0.565    0.4588    positive  \n",
       "296051  0.000     0.227     0.773   -0.6249    negative  \n",
       "296052  0.143     0.000     0.857    0.3973    positive  \n",
       "\n",
       "[171548 rows x 18 columns]"
      ]
     },
     "execution_count": 47,
     "metadata": {},
     "output_type": "execute_result"
    }
   ],
   "source": [
    "final_unpickled"
   ]
  },
  {
   "cell_type": "code",
   "execution_count": 48,
   "metadata": {},
   "outputs": [],
   "source": [
    "t.to_excel(\"sentiment_df.xlsx\") "
   ]
  },
  {
   "cell_type": "code",
   "execution_count": 49,
   "metadata": {
    "jupyter": {
     "source_hidden": true
    }
   },
   "outputs": [
    {
     "data": {
      "text/plain": [
       "{'neg': 0.0, 'neu': 1.0, 'pos': 0.0, 'compound': 0.0}"
      ]
     },
     "execution_count": 49,
     "metadata": {},
     "output_type": "execute_result"
    }
   ],
   "source": [
    "sid.polarity_scores(\"crimes\")"
   ]
  }
 ],
 "metadata": {
  "kernelspec": {
   "display_name": "Python 3",
   "language": "python",
   "name": "python3"
  },
  "language_info": {
   "codemirror_mode": {
    "name": "ipython",
    "version": 3
   },
   "file_extension": ".py",
   "mimetype": "text/x-python",
   "name": "python",
   "nbconvert_exporter": "python",
   "pygments_lexer": "ipython3",
   "version": "3.8.5"
  }
 },
 "nbformat": 4,
 "nbformat_minor": 4
}
